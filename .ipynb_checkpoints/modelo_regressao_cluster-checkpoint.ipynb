{
 "cells": [
  {
   "cell_type": "markdown",
   "metadata": {},
   "source": [
    "# Assigment 19 - Modelo de Regressão/Clusterização"
   ]
  },
  {
   "cell_type": "markdown",
   "metadata": {},
   "source": [
    "### Contexto:\n",
    "\n",
    "Você é um cientista de dados e precisa desenvolver um projeto\n",
    "para o banco digital em expansão. Este banco irá anunciar a\n",
    "função crédito para os novos clientes que entrarem,\n",
    "baseando-se nos dados de movimentações deles de outros\n",
    "bancos e dos nossos clientes. Tem um conjunto de dados com 18\n",
    "colunas, descritas abaixo. São aproximadamente dados de 9000\n",
    "clientes e seus comportamentos financeiros como dinheiro em\n",
    "conta, frequência de movimentações, pagamentos com cartões,\n",
    "compras parceladas e limite de crédito"
   ]
  },
  {
   "cell_type": "markdown",
   "metadata": {},
   "source": [
    "### Objetivo:\n",
    "\n",
    "Os dados que você recebeu são dados brutos de quase 9000\n",
    "clientes de outros bancos que também podem se tornar novos\n",
    "clientes. Uma forma de cativar e adquirir novos clientes é\n",
    "oferecendo um crédito justo, baseado nestes dados que você\n",
    "coletou.\n",
    "Você deve então realizar duas modelagens, uma para criar\n",
    "rótulos (labels) para os clientes agrupando eles por\n",
    "comportamentos e em seguida, utilizar dessa nova feature para\n",
    "criar um modelo de regressão que irá propor um crédito para o\n",
    "cliente baseado-se nestes dados. Abaixo, estão expostas\n",
    "algumas etapas SUGERIDAS para você realizar no projeto."
   ]
  },
  {
   "cell_type": "markdown",
   "metadata": {},
   "source": [
    "### Glossário de dados\n",
    "\n",
    "- CUSTID : Identification of Credit Card holder (Categorical)\n",
    "- BALANCE : Balance amount left in their account to make purchases (\n",
    "- BALANCEFREQUENCY : How frequently the Balance is updated, score between 0 and 1 (1 = frequently updated, 0 = not frequently updated)\n",
    "- PURCHASES : Amount of purchases made from account\n",
    "- ONEOFFPURCHASES : Maximum purchase amount done in one-go\n",
    "- INSTALLMENTSPURCHASES : Amount of purchase done in installment\n",
    "- CASHADVANCE : Cash in advance given by the user\n",
    "- PURCHASESFREQUENCY : How frequently the Purchases are being made, score between 0 and 1 (1 = frequently purchased, 0 = not frequently purchased)\n",
    "- ONEOFFPURCHASESFREQUENCY : How frequently Purchases are happening in one-go (1 = frequently purchased, 0 = not frequently purchased)\n",
    "- PURCHASESINSTALLMENTSFREQUENCY : How frequently purchases in installments are being done (1 = frequently done, 0 = not frequently done)\n",
    "- CASHADVANCEFREQUENCY : How frequently the cash in advance being paid\n",
    "- CASHADVANCETRX : Number of Transactions made with \"Cash in Advanced\"\n",
    "- PURCHASESTRX : Numbe of purchase transactions made\n",
    "- CREDITLIMIT : Limit of Credit Card for user\n",
    "- PAYMENTS : Amount of Payment done by user\n",
    "- MINIMUM_PAYMENTS : Minimum amount of payments made by user\n",
    "- PRCFULLPAYMENT : Percent of full payment paid by user\n",
    "- TENURE : Tenure of credit card service for user"
   ]
  },
  {
   "cell_type": "markdown",
   "metadata": {},
   "source": [
    "### Import de libs"
   ]
  },
  {
   "cell_type": "code",
   "execution_count": 179,
   "metadata": {},
   "outputs": [
    {
     "name": "stderr",
     "output_type": "stream",
     "text": [
      "c:\\users\\natale\\appdata\\local\\programs\\python\\python39\\lib\\site-packages\\tpot\\builtins\\__init__.py:36: UserWarning: Warning: optional dependency `torch` is not available. - skipping import of NN models.\n",
      "  warnings.warn(\"Warning: optional dependency `torch` is not available. - skipping import of NN models.\")\n"
     ]
    }
   ],
   "source": [
    "import pandas as pd\n",
    "import matplotlib.pyplot as plt\n",
    "import numpy as np\n",
    "import seaborn as sns\n",
    "from math import sqrt\n",
    "from sklearn.cluster import KMeans\n",
    "from sklearn.decomposition import PCA\n",
    "from sklearn.preprocessing import StandardScaler\n",
    "from sklearn.model_selection import train_test_split\n",
    "from sklearn.ensemble import RandomForestClassifier\n",
    "from sklearn.naive_bayes import BernoulliNB\n",
    "from sklearn.ensemble  import ExtraTreesClassifier\n",
    "from sklearn.metrics import f1_score, recall_score, precision_score, accuracy_score\n",
    "from tpot import TPOTClassifier\n",
    "from tpot import TPOTRegressor\n",
    "from statsmodels.stats.outliers_influence import variance_inflation_factor"
   ]
  },
  {
   "cell_type": "code",
   "execution_count": 208,
   "metadata": {},
   "outputs": [],
   "source": [
    "from sklearn.ensemble import RandomForestRegressor\n",
    "from sklearn.datasets import make_regression\n",
    "from sklearn.linear_model import LinearRegression\n",
    "from sklearn.metrics import mean_squared_error, r2_score, mean_absolute_error"
   ]
  },
  {
   "cell_type": "markdown",
   "metadata": {},
   "source": [
    "### Import de dados"
   ]
  },
  {
   "cell_type": "code",
   "execution_count": 70,
   "metadata": {},
   "outputs": [],
   "source": [
    "credit_df = pd.read_csv(\"data.csv\")"
   ]
  },
  {
   "cell_type": "code",
   "execution_count": 73,
   "metadata": {},
   "outputs": [
    {
     "data": {
      "text/html": [
       "<div>\n",
       "<style scoped>\n",
       "    .dataframe tbody tr th:only-of-type {\n",
       "        vertical-align: middle;\n",
       "    }\n",
       "\n",
       "    .dataframe tbody tr th {\n",
       "        vertical-align: top;\n",
       "    }\n",
       "\n",
       "    .dataframe thead th {\n",
       "        text-align: right;\n",
       "    }\n",
       "</style>\n",
       "<table border=\"1\" class=\"dataframe\">\n",
       "  <thead>\n",
       "    <tr style=\"text-align: right;\">\n",
       "      <th></th>\n",
       "      <th>BALANCE</th>\n",
       "      <th>BALANCE_FREQUENCY</th>\n",
       "      <th>PURCHASES</th>\n",
       "      <th>ONEOFF_PURCHASES</th>\n",
       "      <th>INSTALLMENTS_PURCHASES</th>\n",
       "      <th>CASH_ADVANCE</th>\n",
       "      <th>PURCHASES_FREQUENCY</th>\n",
       "      <th>ONEOFF_PURCHASES_FREQUENCY</th>\n",
       "      <th>PURCHASES_INSTALLMENTS_FREQUENCY</th>\n",
       "      <th>CASH_ADVANCE_FREQUENCY</th>\n",
       "      <th>CASH_ADVANCE_TRX</th>\n",
       "      <th>PURCHASES_TRX</th>\n",
       "      <th>CREDIT_LIMIT</th>\n",
       "      <th>PAYMENTS</th>\n",
       "      <th>MINIMUM_PAYMENTS</th>\n",
       "      <th>PRC_FULL_PAYMENT</th>\n",
       "      <th>TENURE</th>\n",
       "    </tr>\n",
       "  </thead>\n",
       "  <tbody>\n",
       "    <tr>\n",
       "      <th>0</th>\n",
       "      <td>40.900749</td>\n",
       "      <td>0.818182</td>\n",
       "      <td>95.40</td>\n",
       "      <td>0.00</td>\n",
       "      <td>95.4</td>\n",
       "      <td>0.000000</td>\n",
       "      <td>0.166667</td>\n",
       "      <td>0.000000</td>\n",
       "      <td>0.083333</td>\n",
       "      <td>0.000000</td>\n",
       "      <td>0</td>\n",
       "      <td>2</td>\n",
       "      <td>1000.0</td>\n",
       "      <td>201.802084</td>\n",
       "      <td>139.509787</td>\n",
       "      <td>0.000000</td>\n",
       "      <td>12</td>\n",
       "    </tr>\n",
       "    <tr>\n",
       "      <th>1</th>\n",
       "      <td>3202.467416</td>\n",
       "      <td>0.909091</td>\n",
       "      <td>0.00</td>\n",
       "      <td>0.00</td>\n",
       "      <td>0.0</td>\n",
       "      <td>6442.945483</td>\n",
       "      <td>0.000000</td>\n",
       "      <td>0.000000</td>\n",
       "      <td>0.000000</td>\n",
       "      <td>0.250000</td>\n",
       "      <td>4</td>\n",
       "      <td>0</td>\n",
       "      <td>7000.0</td>\n",
       "      <td>4103.032597</td>\n",
       "      <td>1072.340217</td>\n",
       "      <td>0.222222</td>\n",
       "      <td>12</td>\n",
       "    </tr>\n",
       "    <tr>\n",
       "      <th>2</th>\n",
       "      <td>2495.148862</td>\n",
       "      <td>1.000000</td>\n",
       "      <td>773.17</td>\n",
       "      <td>773.17</td>\n",
       "      <td>0.0</td>\n",
       "      <td>0.000000</td>\n",
       "      <td>1.000000</td>\n",
       "      <td>1.000000</td>\n",
       "      <td>0.000000</td>\n",
       "      <td>0.000000</td>\n",
       "      <td>0</td>\n",
       "      <td>12</td>\n",
       "      <td>7500.0</td>\n",
       "      <td>622.066742</td>\n",
       "      <td>627.284787</td>\n",
       "      <td>0.000000</td>\n",
       "      <td>12</td>\n",
       "    </tr>\n",
       "    <tr>\n",
       "      <th>3</th>\n",
       "      <td>1666.670542</td>\n",
       "      <td>0.636364</td>\n",
       "      <td>1499.00</td>\n",
       "      <td>1499.00</td>\n",
       "      <td>0.0</td>\n",
       "      <td>205.788017</td>\n",
       "      <td>0.083333</td>\n",
       "      <td>0.083333</td>\n",
       "      <td>0.000000</td>\n",
       "      <td>0.083333</td>\n",
       "      <td>1</td>\n",
       "      <td>1</td>\n",
       "      <td>7500.0</td>\n",
       "      <td>0.000000</td>\n",
       "      <td>NaN</td>\n",
       "      <td>0.000000</td>\n",
       "      <td>12</td>\n",
       "    </tr>\n",
       "    <tr>\n",
       "      <th>4</th>\n",
       "      <td>817.714335</td>\n",
       "      <td>1.000000</td>\n",
       "      <td>16.00</td>\n",
       "      <td>16.00</td>\n",
       "      <td>0.0</td>\n",
       "      <td>0.000000</td>\n",
       "      <td>0.083333</td>\n",
       "      <td>0.083333</td>\n",
       "      <td>0.000000</td>\n",
       "      <td>0.000000</td>\n",
       "      <td>0</td>\n",
       "      <td>1</td>\n",
       "      <td>1200.0</td>\n",
       "      <td>678.334763</td>\n",
       "      <td>244.791237</td>\n",
       "      <td>0.000000</td>\n",
       "      <td>12</td>\n",
       "    </tr>\n",
       "  </tbody>\n",
       "</table>\n",
       "</div>"
      ],
      "text/plain": [
       "       BALANCE  BALANCE_FREQUENCY  PURCHASES  ONEOFF_PURCHASES  \\\n",
       "0    40.900749           0.818182      95.40              0.00   \n",
       "1  3202.467416           0.909091       0.00              0.00   \n",
       "2  2495.148862           1.000000     773.17            773.17   \n",
       "3  1666.670542           0.636364    1499.00           1499.00   \n",
       "4   817.714335           1.000000      16.00             16.00   \n",
       "\n",
       "   INSTALLMENTS_PURCHASES  CASH_ADVANCE  PURCHASES_FREQUENCY  \\\n",
       "0                    95.4      0.000000             0.166667   \n",
       "1                     0.0   6442.945483             0.000000   \n",
       "2                     0.0      0.000000             1.000000   \n",
       "3                     0.0    205.788017             0.083333   \n",
       "4                     0.0      0.000000             0.083333   \n",
       "\n",
       "   ONEOFF_PURCHASES_FREQUENCY  PURCHASES_INSTALLMENTS_FREQUENCY  \\\n",
       "0                    0.000000                          0.083333   \n",
       "1                    0.000000                          0.000000   \n",
       "2                    1.000000                          0.000000   \n",
       "3                    0.083333                          0.000000   \n",
       "4                    0.083333                          0.000000   \n",
       "\n",
       "   CASH_ADVANCE_FREQUENCY  CASH_ADVANCE_TRX  PURCHASES_TRX  CREDIT_LIMIT  \\\n",
       "0                0.000000                 0              2        1000.0   \n",
       "1                0.250000                 4              0        7000.0   \n",
       "2                0.000000                 0             12        7500.0   \n",
       "3                0.083333                 1              1        7500.0   \n",
       "4                0.000000                 0              1        1200.0   \n",
       "\n",
       "      PAYMENTS  MINIMUM_PAYMENTS  PRC_FULL_PAYMENT  TENURE  \n",
       "0   201.802084        139.509787          0.000000      12  \n",
       "1  4103.032597       1072.340217          0.222222      12  \n",
       "2   622.066742        627.284787          0.000000      12  \n",
       "3     0.000000               NaN          0.000000      12  \n",
       "4   678.334763        244.791237          0.000000      12  "
      ]
     },
     "execution_count": 73,
     "metadata": {},
     "output_type": "execute_result"
    }
   ],
   "source": [
    "credit_df.head()"
   ]
  },
  {
   "cell_type": "code",
   "execution_count": 4,
   "metadata": {},
   "outputs": [
    {
     "data": {
      "text/plain": [
       "Index(['CUST_ID', 'BALANCE', 'BALANCE_FREQUENCY', 'PURCHASES',\n",
       "       'ONEOFF_PURCHASES', 'INSTALLMENTS_PURCHASES', 'CASH_ADVANCE',\n",
       "       'PURCHASES_FREQUENCY', 'ONEOFF_PURCHASES_FREQUENCY',\n",
       "       'PURCHASES_INSTALLMENTS_FREQUENCY', 'CASH_ADVANCE_FREQUENCY',\n",
       "       'CASH_ADVANCE_TRX', 'PURCHASES_TRX', 'CREDIT_LIMIT', 'PAYMENTS',\n",
       "       'MINIMUM_PAYMENTS', 'PRC_FULL_PAYMENT', 'TENURE'],\n",
       "      dtype='object')"
      ]
     },
     "execution_count": 4,
     "metadata": {},
     "output_type": "execute_result"
    }
   ],
   "source": [
    "credit_df.columns"
   ]
  },
  {
   "cell_type": "code",
   "execution_count": 5,
   "metadata": {},
   "outputs": [
    {
     "name": "stdout",
     "output_type": "stream",
     "text": [
      "<class 'pandas.core.frame.DataFrame'>\n",
      "RangeIndex: 8950 entries, 0 to 8949\n",
      "Data columns (total 18 columns):\n",
      " #   Column                            Non-Null Count  Dtype  \n",
      "---  ------                            --------------  -----  \n",
      " 0   CUST_ID                           8950 non-null   object \n",
      " 1   BALANCE                           8950 non-null   float64\n",
      " 2   BALANCE_FREQUENCY                 8950 non-null   float64\n",
      " 3   PURCHASES                         8950 non-null   float64\n",
      " 4   ONEOFF_PURCHASES                  8950 non-null   float64\n",
      " 5   INSTALLMENTS_PURCHASES            8950 non-null   float64\n",
      " 6   CASH_ADVANCE                      8950 non-null   float64\n",
      " 7   PURCHASES_FREQUENCY               8950 non-null   float64\n",
      " 8   ONEOFF_PURCHASES_FREQUENCY        8950 non-null   float64\n",
      " 9   PURCHASES_INSTALLMENTS_FREQUENCY  8950 non-null   float64\n",
      " 10  CASH_ADVANCE_FREQUENCY            8950 non-null   float64\n",
      " 11  CASH_ADVANCE_TRX                  8950 non-null   int64  \n",
      " 12  PURCHASES_TRX                     8950 non-null   int64  \n",
      " 13  CREDIT_LIMIT                      8949 non-null   float64\n",
      " 14  PAYMENTS                          8950 non-null   float64\n",
      " 15  MINIMUM_PAYMENTS                  8637 non-null   float64\n",
      " 16  PRC_FULL_PAYMENT                  8950 non-null   float64\n",
      " 17  TENURE                            8950 non-null   int64  \n",
      "dtypes: float64(14), int64(3), object(1)\n",
      "memory usage: 1.2+ MB\n"
     ]
    }
   ],
   "source": [
    "credit_df.info()"
   ]
  },
  {
   "cell_type": "code",
   "execution_count": 107,
   "metadata": {},
   "outputs": [
    {
     "data": {
      "text/html": [
       "<div>\n",
       "<style scoped>\n",
       "    .dataframe tbody tr th:only-of-type {\n",
       "        vertical-align: middle;\n",
       "    }\n",
       "\n",
       "    .dataframe tbody tr th {\n",
       "        vertical-align: top;\n",
       "    }\n",
       "\n",
       "    .dataframe thead th {\n",
       "        text-align: right;\n",
       "    }\n",
       "</style>\n",
       "<table border=\"1\" class=\"dataframe\">\n",
       "  <thead>\n",
       "    <tr style=\"text-align: right;\">\n",
       "      <th></th>\n",
       "      <th>BALANCE</th>\n",
       "      <th>BALANCE_FREQUENCY</th>\n",
       "      <th>PURCHASES</th>\n",
       "      <th>ONEOFF_PURCHASES</th>\n",
       "      <th>INSTALLMENTS_PURCHASES</th>\n",
       "      <th>CASH_ADVANCE</th>\n",
       "      <th>PURCHASES_FREQUENCY</th>\n",
       "      <th>ONEOFF_PURCHASES_FREQUENCY</th>\n",
       "      <th>PURCHASES_INSTALLMENTS_FREQUENCY</th>\n",
       "      <th>CASH_ADVANCE_FREQUENCY</th>\n",
       "      <th>CASH_ADVANCE_TRX</th>\n",
       "      <th>PURCHASES_TRX</th>\n",
       "      <th>CREDIT_LIMIT</th>\n",
       "      <th>PAYMENTS</th>\n",
       "      <th>MINIMUM_PAYMENTS</th>\n",
       "      <th>PRC_FULL_PAYMENT</th>\n",
       "      <th>TENURE</th>\n",
       "    </tr>\n",
       "  </thead>\n",
       "  <tbody>\n",
       "    <tr>\n",
       "      <th>count</th>\n",
       "      <td>8950.000000</td>\n",
       "      <td>8950.000000</td>\n",
       "      <td>8950.000000</td>\n",
       "      <td>8950.000000</td>\n",
       "      <td>8950.000000</td>\n",
       "      <td>8950.000000</td>\n",
       "      <td>8950.000000</td>\n",
       "      <td>8950.000000</td>\n",
       "      <td>8950.000000</td>\n",
       "      <td>8950.000000</td>\n",
       "      <td>8950.000000</td>\n",
       "      <td>8950.000000</td>\n",
       "      <td>8950.000000</td>\n",
       "      <td>8950.000000</td>\n",
       "      <td>8950.000000</td>\n",
       "      <td>8950.000000</td>\n",
       "      <td>8950.000000</td>\n",
       "    </tr>\n",
       "    <tr>\n",
       "      <th>mean</th>\n",
       "      <td>1564.474828</td>\n",
       "      <td>0.877271</td>\n",
       "      <td>1003.204834</td>\n",
       "      <td>592.437371</td>\n",
       "      <td>411.067645</td>\n",
       "      <td>978.871112</td>\n",
       "      <td>0.490351</td>\n",
       "      <td>0.202458</td>\n",
       "      <td>0.364437</td>\n",
       "      <td>0.135144</td>\n",
       "      <td>3.248827</td>\n",
       "      <td>14.709832</td>\n",
       "      <td>4493.947277</td>\n",
       "      <td>1733.143852</td>\n",
       "      <td>833.983453</td>\n",
       "      <td>0.153715</td>\n",
       "      <td>11.517318</td>\n",
       "    </tr>\n",
       "    <tr>\n",
       "      <th>std</th>\n",
       "      <td>2081.531879</td>\n",
       "      <td>0.236904</td>\n",
       "      <td>2136.634782</td>\n",
       "      <td>1659.887917</td>\n",
       "      <td>904.338115</td>\n",
       "      <td>2097.163877</td>\n",
       "      <td>0.401371</td>\n",
       "      <td>0.298336</td>\n",
       "      <td>0.397448</td>\n",
       "      <td>0.200121</td>\n",
       "      <td>6.824647</td>\n",
       "      <td>24.857649</td>\n",
       "      <td>3638.922543</td>\n",
       "      <td>2895.063757</td>\n",
       "      <td>2335.989918</td>\n",
       "      <td>0.292499</td>\n",
       "      <td>1.338331</td>\n",
       "    </tr>\n",
       "    <tr>\n",
       "      <th>min</th>\n",
       "      <td>0.000000</td>\n",
       "      <td>0.000000</td>\n",
       "      <td>0.000000</td>\n",
       "      <td>0.000000</td>\n",
       "      <td>0.000000</td>\n",
       "      <td>0.000000</td>\n",
       "      <td>0.000000</td>\n",
       "      <td>0.000000</td>\n",
       "      <td>0.000000</td>\n",
       "      <td>0.000000</td>\n",
       "      <td>0.000000</td>\n",
       "      <td>0.000000</td>\n",
       "      <td>0.000000</td>\n",
       "      <td>0.000000</td>\n",
       "      <td>0.000000</td>\n",
       "      <td>0.000000</td>\n",
       "      <td>6.000000</td>\n",
       "    </tr>\n",
       "    <tr>\n",
       "      <th>25%</th>\n",
       "      <td>128.281915</td>\n",
       "      <td>0.888889</td>\n",
       "      <td>39.635000</td>\n",
       "      <td>0.000000</td>\n",
       "      <td>0.000000</td>\n",
       "      <td>0.000000</td>\n",
       "      <td>0.083333</td>\n",
       "      <td>0.000000</td>\n",
       "      <td>0.000000</td>\n",
       "      <td>0.000000</td>\n",
       "      <td>0.000000</td>\n",
       "      <td>1.000000</td>\n",
       "      <td>1600.000000</td>\n",
       "      <td>383.276166</td>\n",
       "      <td>163.028164</td>\n",
       "      <td>0.000000</td>\n",
       "      <td>12.000000</td>\n",
       "    </tr>\n",
       "    <tr>\n",
       "      <th>50%</th>\n",
       "      <td>873.385231</td>\n",
       "      <td>1.000000</td>\n",
       "      <td>361.280000</td>\n",
       "      <td>38.000000</td>\n",
       "      <td>89.000000</td>\n",
       "      <td>0.000000</td>\n",
       "      <td>0.500000</td>\n",
       "      <td>0.083333</td>\n",
       "      <td>0.166667</td>\n",
       "      <td>0.000000</td>\n",
       "      <td>0.000000</td>\n",
       "      <td>7.000000</td>\n",
       "      <td>3000.000000</td>\n",
       "      <td>856.901546</td>\n",
       "      <td>289.628402</td>\n",
       "      <td>0.000000</td>\n",
       "      <td>12.000000</td>\n",
       "    </tr>\n",
       "    <tr>\n",
       "      <th>75%</th>\n",
       "      <td>2054.140036</td>\n",
       "      <td>1.000000</td>\n",
       "      <td>1110.130000</td>\n",
       "      <td>577.405000</td>\n",
       "      <td>468.637500</td>\n",
       "      <td>1113.821139</td>\n",
       "      <td>0.916667</td>\n",
       "      <td>0.300000</td>\n",
       "      <td>0.750000</td>\n",
       "      <td>0.222222</td>\n",
       "      <td>4.000000</td>\n",
       "      <td>17.000000</td>\n",
       "      <td>6500.000000</td>\n",
       "      <td>1901.134317</td>\n",
       "      <td>788.713501</td>\n",
       "      <td>0.142857</td>\n",
       "      <td>12.000000</td>\n",
       "    </tr>\n",
       "    <tr>\n",
       "      <th>max</th>\n",
       "      <td>19043.138560</td>\n",
       "      <td>1.000000</td>\n",
       "      <td>49039.570000</td>\n",
       "      <td>40761.250000</td>\n",
       "      <td>22500.000000</td>\n",
       "      <td>47137.211760</td>\n",
       "      <td>1.000000</td>\n",
       "      <td>1.000000</td>\n",
       "      <td>1.000000</td>\n",
       "      <td>1.500000</td>\n",
       "      <td>123.000000</td>\n",
       "      <td>358.000000</td>\n",
       "      <td>30000.000000</td>\n",
       "      <td>50721.483360</td>\n",
       "      <td>76406.207520</td>\n",
       "      <td>1.000000</td>\n",
       "      <td>12.000000</td>\n",
       "    </tr>\n",
       "  </tbody>\n",
       "</table>\n",
       "</div>"
      ],
      "text/plain": [
       "            BALANCE  BALANCE_FREQUENCY     PURCHASES  ONEOFF_PURCHASES  \\\n",
       "count   8950.000000        8950.000000   8950.000000       8950.000000   \n",
       "mean    1564.474828           0.877271   1003.204834        592.437371   \n",
       "std     2081.531879           0.236904   2136.634782       1659.887917   \n",
       "min        0.000000           0.000000      0.000000          0.000000   \n",
       "25%      128.281915           0.888889     39.635000          0.000000   \n",
       "50%      873.385231           1.000000    361.280000         38.000000   \n",
       "75%     2054.140036           1.000000   1110.130000        577.405000   \n",
       "max    19043.138560           1.000000  49039.570000      40761.250000   \n",
       "\n",
       "       INSTALLMENTS_PURCHASES  CASH_ADVANCE  PURCHASES_FREQUENCY  \\\n",
       "count             8950.000000   8950.000000          8950.000000   \n",
       "mean               411.067645    978.871112             0.490351   \n",
       "std                904.338115   2097.163877             0.401371   \n",
       "min                  0.000000      0.000000             0.000000   \n",
       "25%                  0.000000      0.000000             0.083333   \n",
       "50%                 89.000000      0.000000             0.500000   \n",
       "75%                468.637500   1113.821139             0.916667   \n",
       "max              22500.000000  47137.211760             1.000000   \n",
       "\n",
       "       ONEOFF_PURCHASES_FREQUENCY  PURCHASES_INSTALLMENTS_FREQUENCY  \\\n",
       "count                 8950.000000                       8950.000000   \n",
       "mean                     0.202458                          0.364437   \n",
       "std                      0.298336                          0.397448   \n",
       "min                      0.000000                          0.000000   \n",
       "25%                      0.000000                          0.000000   \n",
       "50%                      0.083333                          0.166667   \n",
       "75%                      0.300000                          0.750000   \n",
       "max                      1.000000                          1.000000   \n",
       "\n",
       "       CASH_ADVANCE_FREQUENCY  CASH_ADVANCE_TRX  PURCHASES_TRX  CREDIT_LIMIT  \\\n",
       "count             8950.000000       8950.000000    8950.000000   8950.000000   \n",
       "mean                 0.135144          3.248827      14.709832   4493.947277   \n",
       "std                  0.200121          6.824647      24.857649   3638.922543   \n",
       "min                  0.000000          0.000000       0.000000      0.000000   \n",
       "25%                  0.000000          0.000000       1.000000   1600.000000   \n",
       "50%                  0.000000          0.000000       7.000000   3000.000000   \n",
       "75%                  0.222222          4.000000      17.000000   6500.000000   \n",
       "max                  1.500000        123.000000     358.000000  30000.000000   \n",
       "\n",
       "           PAYMENTS  MINIMUM_PAYMENTS  PRC_FULL_PAYMENT       TENURE  \n",
       "count   8950.000000       8950.000000       8950.000000  8950.000000  \n",
       "mean    1733.143852        833.983453          0.153715    11.517318  \n",
       "std     2895.063757       2335.989918          0.292499     1.338331  \n",
       "min        0.000000          0.000000          0.000000     6.000000  \n",
       "25%      383.276166        163.028164          0.000000    12.000000  \n",
       "50%      856.901546        289.628402          0.000000    12.000000  \n",
       "75%     1901.134317        788.713501          0.142857    12.000000  \n",
       "max    50721.483360      76406.207520          1.000000    12.000000  "
      ]
     },
     "execution_count": 107,
     "metadata": {},
     "output_type": "execute_result"
    }
   ],
   "source": [
    "credit_df.describe()"
   ]
  },
  {
   "cell_type": "code",
   "execution_count": 75,
   "metadata": {},
   "outputs": [],
   "source": [
    "credit_df.replace(np.nan, 0, inplace=True)"
   ]
  },
  {
   "cell_type": "code",
   "execution_count": 76,
   "metadata": {},
   "outputs": [
    {
     "data": {
      "text/plain": [
       "BALANCE                             0\n",
       "BALANCE_FREQUENCY                   0\n",
       "PURCHASES                           0\n",
       "ONEOFF_PURCHASES                    0\n",
       "INSTALLMENTS_PURCHASES              0\n",
       "CASH_ADVANCE                        0\n",
       "PURCHASES_FREQUENCY                 0\n",
       "ONEOFF_PURCHASES_FREQUENCY          0\n",
       "PURCHASES_INSTALLMENTS_FREQUENCY    0\n",
       "CASH_ADVANCE_FREQUENCY              0\n",
       "CASH_ADVANCE_TRX                    0\n",
       "PURCHASES_TRX                       0\n",
       "CREDIT_LIMIT                        0\n",
       "PAYMENTS                            0\n",
       "MINIMUM_PAYMENTS                    0\n",
       "PRC_FULL_PAYMENT                    0\n",
       "TENURE                              0\n",
       "dtype: int64"
      ]
     },
     "execution_count": 76,
     "metadata": {},
     "output_type": "execute_result"
    }
   ],
   "source": [
    "credit_df.isnull().sum()"
   ]
  },
  {
   "cell_type": "code",
   "execution_count": 18,
   "metadata": {},
   "outputs": [
    {
     "data": {
      "image/png": "[encoded data removed]",
      "text/plain": [
       "<Figure size 864x720 with 2 Axes>"
      ]
     },
     "metadata": {
      "needs_background": "light"
     },
     "output_type": "display_data"
    }
   ],
   "source": [
    "#plt.figure(figsize=(10, 12))\n",
    "#sns.heatmap(credit_df.corr(), annot=True)\n",
    "\n",
    "fig, ax = plt.subplots(figsize=(12, 10))\n",
    "# mask\n",
    "mask = np.triu(np.ones_like(credit_df.corr(), dtype=np.bool))\n",
    "# adjust mask and df\n",
    "mask = mask[1:, :-1]\n",
    "corr = credit_df.corr().iloc[1:,:-1].copy()\n",
    "# color map\n",
    "cmap = sns.diverging_palette(0, 230, 90, 60, as_cmap=True)\n",
    "# plot heatmap\n",
    "sns.heatmap(corr, mask=mask, annot=True, fmt=\".2f\", \n",
    "           linewidths=5, cmap=cmap, vmin=-1, vmax=1, \n",
    "           cbar_kws={\"shrink\": .8}, square=True)\n",
    "# ticks\n",
    "yticks = [i.upper() for i in corr.index]\n",
    "xticks = [i.upper() for i in corr.columns]\n",
    "plt.yticks(plt.yticks()[0], labels=yticks, rotation=0)\n",
    "plt.xticks(plt.xticks()[0], labels=xticks)\n",
    "# title\n",
    "title = 'CORRELATION MATRIX\\n'\n",
    "plt.title(title, loc='left', fontsize=18)\n",
    "plt.show()"
   ]
  },
  {
   "cell_type": "code",
   "execution_count": 67,
   "metadata": {},
   "outputs": [
    {
     "name": "stderr",
     "output_type": "stream",
     "text": [
      "c:\\users\\natale\\appdata\\local\\programs\\python\\python39\\lib\\site-packages\\seaborn\\distributions.py:2619: FutureWarning: `distplot` is a deprecated function and will be removed in a future version. Please adapt your code to use either `displot` (a figure-level function with similar flexibility) or `histplot` (an axes-level function for histograms).\n",
      "  warnings.warn(msg, FutureWarning)\n"
     ]
    },
    {
     "data": {
      "image/png": "[encoded data removed]",
      "text/plain": [
       "<Figure size 432x288 with 1 Axes>"
      ]
     },
     "metadata": {
      "needs_background": "light"
     },
     "output_type": "display_data"
    },
    {
     "name": "stderr",
     "output_type": "stream",
     "text": [
      "c:\\users\\natale\\appdata\\local\\programs\\python\\python39\\lib\\site-packages\\seaborn\\distributions.py:2619: FutureWarning: `distplot` is a deprecated function and will be removed in a future version. Please adapt your code to use either `displot` (a figure-level function with similar flexibility) or `histplot` (an axes-level function for histograms).\n",
      "  warnings.warn(msg, FutureWarning)\n"
     ]
    },
    {
     "data": {
      "image/png": "[encoded data removed]",
      "text/plain": [
       "<Figure size 432x288 with 1 Axes>"
      ]
     },
     "metadata": {
      "needs_background": "light"
     },
     "output_type": "display_data"
    },
    {
     "name": "stderr",
     "output_type": "stream",
     "text": [
      "c:\\users\\natale\\appdata\\local\\programs\\python\\python39\\lib\\site-packages\\seaborn\\distributions.py:2619: FutureWarning: `distplot` is a deprecated function and will be removed in a future version. Please adapt your code to use either `displot` (a figure-level function with similar flexibility) or `histplot` (an axes-level function for histograms).\n",
      "  warnings.warn(msg, FutureWarning)\n"
     ]
    },
    {
     "data": {
      "image/png": "[encoded data removed]",
      "text/plain": [
       "<Figure size 432x288 with 1 Axes>"
      ]
     },
     "metadata": {
      "needs_background": "light"
     },
     "output_type": "display_data"
    },
    {
     "name": "stderr",
     "output_type": "stream",
     "text": [
      "c:\\users\\natale\\appdata\\local\\programs\\python\\python39\\lib\\site-packages\\seaborn\\distributions.py:2619: FutureWarning: `distplot` is a deprecated function and will be removed in a future version. Please adapt your code to use either `displot` (a figure-level function with similar flexibility) or `histplot` (an axes-level function for histograms).\n",
      "  warnings.warn(msg, FutureWarning)\n"
     ]
    },
    {
     "data": {
      "image/png": "[encoded data removed]",
      "text/plain": [
       "<Figure size 432x288 with 1 Axes>"
      ]
     },
     "metadata": {
      "needs_background": "light"
     },
     "output_type": "display_data"
    },
    {
     "name": "stderr",
     "output_type": "stream",
     "text": [
      "c:\\users\\natale\\appdata\\local\\programs\\python\\python39\\lib\\site-packages\\seaborn\\distributions.py:2619: FutureWarning: `distplot` is a deprecated function and will be removed in a future version. Please adapt your code to use either `displot` (a figure-level function with similar flexibility) or `histplot` (an axes-level function for histograms).\n",
      "  warnings.warn(msg, FutureWarning)\n"
     ]
    },
    {
     "data": {
      "image/png": "[encoded data removed]",
      "text/plain": [
       "<Figure size 432x288 with 1 Axes>"
      ]
     },
     "metadata": {
      "needs_background": "light"
     },
     "output_type": "display_data"
    },
    {
     "name": "stderr",
     "output_type": "stream",
     "text": [
      "c:\\users\\natale\\appdata\\local\\programs\\python\\python39\\lib\\site-packages\\seaborn\\distributions.py:2619: FutureWarning: `distplot` is a deprecated function and will be removed in a future version. Please adapt your code to use either `displot` (a figure-level function with similar flexibility) or `histplot` (an axes-level function for histograms).\n",
      "  warnings.warn(msg, FutureWarning)\n"
     ]
    },
    {
     "data": {
      "image/png": "[encoded data removed]",
      "text/plain": [
       "<Figure size 432x288 with 1 Axes>"
      ]
     },
     "metadata": {
      "needs_background": "light"
     },
     "output_type": "display_data"
    },
    {
     "name": "stderr",
     "output_type": "stream",
     "text": [
      "c:\\users\\natale\\appdata\\local\\programs\\python\\python39\\lib\\site-packages\\seaborn\\distributions.py:2619: FutureWarning: `distplot` is a deprecated function and will be removed in a future version. Please adapt your code to use either `displot` (a figure-level function with similar flexibility) or `histplot` (an axes-level function for histograms).\n",
      "  warnings.warn(msg, FutureWarning)\n"
     ]
    },
    {
     "data": {
      "image/png": "[encoded data removed]",
      "text/plain": [
       "<Figure size 432x288 with 1 Axes>"
      ]
     },
     "metadata": {
      "needs_background": "light"
     },
     "output_type": "display_data"
    },
    {
     "name": "stderr",
     "output_type": "stream",
     "text": [
      "c:\\users\\natale\\appdata\\local\\programs\\python\\python39\\lib\\site-packages\\seaborn\\distributions.py:2619: FutureWarning: `distplot` is a deprecated function and will be removed in a future version. Please adapt your code to use either `displot` (a figure-level function with similar flexibility) or `histplot` (an axes-level function for histograms).\n",
      "  warnings.warn(msg, FutureWarning)\n"
     ]
    },
    {
     "data": {
      "image/png": "[encoded data removed]",
      "text/plain": [
       "<Figure size 432x288 with 1 Axes>"
      ]
     },
     "metadata": {
      "needs_background": "light"
     },
     "output_type": "display_data"
    },
    {
     "name": "stderr",
     "output_type": "stream",
     "text": [
      "c:\\users\\natale\\appdata\\local\\programs\\python\\python39\\lib\\site-packages\\seaborn\\distributions.py:2619: FutureWarning: `distplot` is a deprecated function and will be removed in a future version. Please adapt your code to use either `displot` (a figure-level function with similar flexibility) or `histplot` (an axes-level function for histograms).\n",
      "  warnings.warn(msg, FutureWarning)\n"
     ]
    },
    {
     "data": {
      "image/png": "[encoded data removed]",
      "text/plain": [
       "<Figure size 432x288 with 1 Axes>"
      ]
     },
     "metadata": {
      "needs_background": "light"
     },
     "output_type": "display_data"
    },
    {
     "name": "stderr",
     "output_type": "stream",
     "text": [
      "c:\\users\\natale\\appdata\\local\\programs\\python\\python39\\lib\\site-packages\\seaborn\\distributions.py:2619: FutureWarning: `distplot` is a deprecated function and will be removed in a future version. Please adapt your code to use either `displot` (a figure-level function with similar flexibility) or `histplot` (an axes-level function for histograms).\n",
      "  warnings.warn(msg, FutureWarning)\n"
     ]
    },
    {
     "data": {
      "image/png": "[encoded data removed]",
      "text/plain": [
       "<Figure size 432x288 with 1 Axes>"
      ]
     },
     "metadata": {
      "needs_background": "light"
     },
     "output_type": "display_data"
    },
    {
     "name": "stderr",
     "output_type": "stream",
     "text": [
      "c:\\users\\natale\\appdata\\local\\programs\\python\\python39\\lib\\site-packages\\seaborn\\distributions.py:2619: FutureWarning: `distplot` is a deprecated function and will be removed in a future version. Please adapt your code to use either `displot` (a figure-level function with similar flexibility) or `histplot` (an axes-level function for histograms).\n",
      "  warnings.warn(msg, FutureWarning)\n"
     ]
    },
    {
     "data": {
      "image/png": "[encoded data removed]",
      "text/plain": [
       "<Figure size 432x288 with 1 Axes>"
      ]
     },
     "metadata": {
      "needs_background": "light"
     },
     "output_type": "display_data"
    },
    {
     "name": "stderr",
     "output_type": "stream",
     "text": [
      "c:\\users\\natale\\appdata\\local\\programs\\python\\python39\\lib\\site-packages\\seaborn\\distributions.py:2619: FutureWarning: `distplot` is a deprecated function and will be removed in a future version. Please adapt your code to use either `displot` (a figure-level function with similar flexibility) or `histplot` (an axes-level function for histograms).\n",
      "  warnings.warn(msg, FutureWarning)\n"
     ]
    },
    {
     "data": {
      "image/png": "[encoded data removed]",
      "text/plain": [
       "<Figure size 432x288 with 1 Axes>"
      ]
     },
     "metadata": {
      "needs_background": "light"
     },
     "output_type": "display_data"
    },
    {
     "name": "stderr",
     "output_type": "stream",
     "text": [
      "c:\\users\\natale\\appdata\\local\\programs\\python\\python39\\lib\\site-packages\\seaborn\\distributions.py:2619: FutureWarning: `distplot` is a deprecated function and will be removed in a future version. Please adapt your code to use either `displot` (a figure-level function with similar flexibility) or `histplot` (an axes-level function for histograms).\n",
      "  warnings.warn(msg, FutureWarning)\n"
     ]
    },
    {
     "data": {
      "image/png": "[encoded data removed]",
      "text/plain": [
       "<Figure size 432x288 with 1 Axes>"
      ]
     },
     "metadata": {
      "needs_background": "light"
     },
     "output_type": "display_data"
    },
    {
     "name": "stderr",
     "output_type": "stream",
     "text": [
      "c:\\users\\natale\\appdata\\local\\programs\\python\\python39\\lib\\site-packages\\seaborn\\distributions.py:2619: FutureWarning: `distplot` is a deprecated function and will be removed in a future version. Please adapt your code to use either `displot` (a figure-level function with similar flexibility) or `histplot` (an axes-level function for histograms).\n",
      "  warnings.warn(msg, FutureWarning)\n"
     ]
    },
    {
     "data": {
      "image/png": "[encoded data removed]",
      "text/plain": [
       "<Figure size 432x288 with 1 Axes>"
      ]
     },
     "metadata": {
      "needs_background": "light"
     },
     "output_type": "display_data"
    },
    {
     "name": "stderr",
     "output_type": "stream",
     "text": [
      "c:\\users\\natale\\appdata\\local\\programs\\python\\python39\\lib\\site-packages\\seaborn\\distributions.py:2619: FutureWarning: `distplot` is a deprecated function and will be removed in a future version. Please adapt your code to use either `displot` (a figure-level function with similar flexibility) or `histplot` (an axes-level function for histograms).\n",
      "  warnings.warn(msg, FutureWarning)\n"
     ]
    },
    {
     "data": {
      "image/png": "[encoded data removed]",
      "text/plain": [
       "<Figure size 432x288 with 1 Axes>"
      ]
     },
     "metadata": {
      "needs_background": "light"
     },
     "output_type": "display_data"
    },
    {
     "name": "stderr",
     "output_type": "stream",
     "text": [
      "c:\\users\\natale\\appdata\\local\\programs\\python\\python39\\lib\\site-packages\\seaborn\\distributions.py:2619: FutureWarning: `distplot` is a deprecated function and will be removed in a future version. Please adapt your code to use either `displot` (a figure-level function with similar flexibility) or `histplot` (an axes-level function for histograms).\n",
      "  warnings.warn(msg, FutureWarning)\n"
     ]
    },
    {
     "data": {
      "image/png": "[encoded data removed]",
      "text/plain": [
       "<Figure size 432x288 with 1 Axes>"
      ]
     },
     "metadata": {
      "needs_background": "light"
     },
     "output_type": "display_data"
    },
    {
     "name": "stderr",
     "output_type": "stream",
     "text": [
      "c:\\users\\natale\\appdata\\local\\programs\\python\\python39\\lib\\site-packages\\seaborn\\distributions.py:2619: FutureWarning: `distplot` is a deprecated function and will be removed in a future version. Please adapt your code to use either `displot` (a figure-level function with similar flexibility) or `histplot` (an axes-level function for histograms).\n",
      "  warnings.warn(msg, FutureWarning)\n"
     ]
    },
    {
     "data": {
      "image/png": "[encoded data removed]",
      "text/plain": [
       "<Figure size 432x288 with 1 Axes>"
      ]
     },
     "metadata": {
      "needs_background": "light"
     },
     "output_type": "display_data"
    }
   ],
   "source": [
    "for x in credit_df.columns:\n",
    "    sns.distplot(credit_df[x])\n",
    "    plt.title(x)\n",
    "    plt.show()"
   ]
  },
  {
   "cell_type": "code",
   "execution_count": 68,
   "metadata": {},
   "outputs": [
    {
     "name": "stderr",
     "output_type": "stream",
     "text": [
      "c:\\users\\natale\\appdata\\local\\programs\\python\\python39\\lib\\site-packages\\seaborn\\_decorators.py:36: FutureWarning: Pass the following variable as a keyword arg: x. From version 0.12, the only valid positional argument will be `data`, and passing other arguments without an explicit keyword will result in an error or misinterpretation.\n",
      "  warnings.warn(\n"
     ]
    },
    {
     "data": {
      "image/png": "[encoded data removed]",
      "text/plain": [
       "<Figure size 432x288 with 1 Axes>"
      ]
     },
     "metadata": {
      "needs_background": "light"
     },
     "output_type": "display_data"
    },
    {
     "name": "stderr",
     "output_type": "stream",
     "text": [
      "c:\\users\\natale\\appdata\\local\\programs\\python\\python39\\lib\\site-packages\\seaborn\\_decorators.py:36: FutureWarning: Pass the following variable as a keyword arg: x. From version 0.12, the only valid positional argument will be `data`, and passing other arguments without an explicit keyword will result in an error or misinterpretation.\n",
      "  warnings.warn(\n"
     ]
    },
    {
     "data": {
      "image/png": "[encoded data removed]",
      "text/plain": [
       "<Figure size 432x288 with 1 Axes>"
      ]
     },
     "metadata": {
      "needs_background": "light"
     },
     "output_type": "display_data"
    },
    {
     "name": "stderr",
     "output_type": "stream",
     "text": [
      "c:\\users\\natale\\appdata\\local\\programs\\python\\python39\\lib\\site-packages\\seaborn\\_decorators.py:36: FutureWarning: Pass the following variable as a keyword arg: x. From version 0.12, the only valid positional argument will be `data`, and passing other arguments without an explicit keyword will result in an error or misinterpretation.\n",
      "  warnings.warn(\n"
     ]
    },
    {
     "data": {
      "image/png": "[encoded data removed]",
      "text/plain": [
       "<Figure size 432x288 with 1 Axes>"
      ]
     },
     "metadata": {
      "needs_background": "light"
     },
     "output_type": "display_data"
    },
    {
     "name": "stderr",
     "output_type": "stream",
     "text": [
      "c:\\users\\natale\\appdata\\local\\programs\\python\\python39\\lib\\site-packages\\seaborn\\_decorators.py:36: FutureWarning: Pass the following variable as a keyword arg: x. From version 0.12, the only valid positional argument will be `data`, and passing other arguments without an explicit keyword will result in an error or misinterpretation.\n",
      "  warnings.warn(\n"
     ]
    },
    {
     "data": {
      "image/png": "[encoded data removed]",
      "text/plain": [
       "<Figure size 432x288 with 1 Axes>"
      ]
     },
     "metadata": {
      "needs_background": "light"
     },
     "output_type": "display_data"
    },
    {
     "name": "stderr",
     "output_type": "stream",
     "text": [
      "c:\\users\\natale\\appdata\\local\\programs\\python\\python39\\lib\\site-packages\\seaborn\\_decorators.py:36: FutureWarning: Pass the following variable as a keyword arg: x. From version 0.12, the only valid positional argument will be `data`, and passing other arguments without an explicit keyword will result in an error or misinterpretation.\n",
      "  warnings.warn(\n"
     ]
    },
    {
     "data": {
      "image/png": "[encoded data removed]",
      "text/plain": [
       "<Figure size 432x288 with 1 Axes>"
      ]
     },
     "metadata": {
      "needs_background": "light"
     },
     "output_type": "display_data"
    },
    {
     "name": "stderr",
     "output_type": "stream",
     "text": [
      "c:\\users\\natale\\appdata\\local\\programs\\python\\python39\\lib\\site-packages\\seaborn\\_decorators.py:36: FutureWarning: Pass the following variable as a keyword arg: x. From version 0.12, the only valid positional argument will be `data`, and passing other arguments without an explicit keyword will result in an error or misinterpretation.\n",
      "  warnings.warn(\n"
     ]
    },
    {
     "data": {
      "image/png": "[encoded data removed]",
      "text/plain": [
       "<Figure size 432x288 with 1 Axes>"
      ]
     },
     "metadata": {
      "needs_background": "light"
     },
     "output_type": "display_data"
    },
    {
     "name": "stderr",
     "output_type": "stream",
     "text": [
      "c:\\users\\natale\\appdata\\local\\programs\\python\\python39\\lib\\site-packages\\seaborn\\_decorators.py:36: FutureWarning: Pass the following variable as a keyword arg: x. From version 0.12, the only valid positional argument will be `data`, and passing other arguments without an explicit keyword will result in an error or misinterpretation.\n",
      "  warnings.warn(\n"
     ]
    },
    {
     "data": {
      "image/png": "[encoded data removed]",
      "text/plain": [
       "<Figure size 432x288 with 1 Axes>"
      ]
     },
     "metadata": {
      "needs_background": "light"
     },
     "output_type": "display_data"
    },
    {
     "name": "stderr",
     "output_type": "stream",
     "text": [
      "c:\\users\\natale\\appdata\\local\\programs\\python\\python39\\lib\\site-packages\\seaborn\\_decorators.py:36: FutureWarning: Pass the following variable as a keyword arg: x. From version 0.12, the only valid positional argument will be `data`, and passing other arguments without an explicit keyword will result in an error or misinterpretation.\n",
      "  warnings.warn(\n"
     ]
    },
    {
     "data": {
      "image/png": "[encoded data removed]",
      "text/plain": [
       "<Figure size 432x288 with 1 Axes>"
      ]
     },
     "metadata": {
      "needs_background": "light"
     },
     "output_type": "display_data"
    },
    {
     "name": "stderr",
     "output_type": "stream",
     "text": [
      "c:\\users\\natale\\appdata\\local\\programs\\python\\python39\\lib\\site-packages\\seaborn\\_decorators.py:36: FutureWarning: Pass the following variable as a keyword arg: x. From version 0.12, the only valid positional argument will be `data`, and passing other arguments without an explicit keyword will result in an error or misinterpretation.\n",
      "  warnings.warn(\n"
     ]
    },
    {
     "data": {
      "image/png": "[encoded data removed]",
      "text/plain": [
       "<Figure size 432x288 with 1 Axes>"
      ]
     },
     "metadata": {
      "needs_background": "light"
     },
     "output_type": "display_data"
    },
    {
     "name": "stderr",
     "output_type": "stream",
     "text": [
      "c:\\users\\natale\\appdata\\local\\programs\\python\\python39\\lib\\site-packages\\seaborn\\_decorators.py:36: FutureWarning: Pass the following variable as a keyword arg: x. From version 0.12, the only valid positional argument will be `data`, and passing other arguments without an explicit keyword will result in an error or misinterpretation.\n",
      "  warnings.warn(\n"
     ]
    },
    {
     "data": {
      "image/png": "[encoded data removed]",
      "text/plain": [
       "<Figure size 432x288 with 1 Axes>"
      ]
     },
     "metadata": {
      "needs_background": "light"
     },
     "output_type": "display_data"
    },
    {
     "name": "stderr",
     "output_type": "stream",
     "text": [
      "c:\\users\\natale\\appdata\\local\\programs\\python\\python39\\lib\\site-packages\\seaborn\\_decorators.py:36: FutureWarning: Pass the following variable as a keyword arg: x. From version 0.12, the only valid positional argument will be `data`, and passing other arguments without an explicit keyword will result in an error or misinterpretation.\n",
      "  warnings.warn(\n"
     ]
    },
    {
     "data": {
      "image/png": "[encoded data removed]",
      "text/plain": [
       "<Figure size 432x288 with 1 Axes>"
      ]
     },
     "metadata": {
      "needs_background": "light"
     },
     "output_type": "display_data"
    },
    {
     "name": "stderr",
     "output_type": "stream",
     "text": [
      "c:\\users\\natale\\appdata\\local\\programs\\python\\python39\\lib\\site-packages\\seaborn\\_decorators.py:36: FutureWarning: Pass the following variable as a keyword arg: x. From version 0.12, the only valid positional argument will be `data`, and passing other arguments without an explicit keyword will result in an error or misinterpretation.\n",
      "  warnings.warn(\n"
     ]
    },
    {
     "data": {
      "image/png": "[encoded data removed]",
      "text/plain": [
       "<Figure size 432x288 with 1 Axes>"
      ]
     },
     "metadata": {
      "needs_background": "light"
     },
     "output_type": "display_data"
    },
    {
     "name": "stderr",
     "output_type": "stream",
     "text": [
      "c:\\users\\natale\\appdata\\local\\programs\\python\\python39\\lib\\site-packages\\seaborn\\_decorators.py:36: FutureWarning: Pass the following variable as a keyword arg: x. From version 0.12, the only valid positional argument will be `data`, and passing other arguments without an explicit keyword will result in an error or misinterpretation.\n",
      "  warnings.warn(\n"
     ]
    },
    {
     "data": {
      "image/png": "[encoded data removed]",
      "text/plain": [
       "<Figure size 432x288 with 1 Axes>"
      ]
     },
     "metadata": {
      "needs_background": "light"
     },
     "output_type": "display_data"
    },
    {
     "name": "stderr",
     "output_type": "stream",
     "text": [
      "c:\\users\\natale\\appdata\\local\\programs\\python\\python39\\lib\\site-packages\\seaborn\\_decorators.py:36: FutureWarning: Pass the following variable as a keyword arg: x. From version 0.12, the only valid positional argument will be `data`, and passing other arguments without an explicit keyword will result in an error or misinterpretation.\n",
      "  warnings.warn(\n"
     ]
    },
    {
     "data": {
      "image/png": "[encoded data removed]",
      "text/plain": [
       "<Figure size 432x288 with 1 Axes>"
      ]
     },
     "metadata": {
      "needs_background": "light"
     },
     "output_type": "display_data"
    },
    {
     "name": "stderr",
     "output_type": "stream",
     "text": [
      "c:\\users\\natale\\appdata\\local\\programs\\python\\python39\\lib\\site-packages\\seaborn\\_decorators.py:36: FutureWarning: Pass the following variable as a keyword arg: x. From version 0.12, the only valid positional argument will be `data`, and passing other arguments without an explicit keyword will result in an error or misinterpretation.\n",
      "  warnings.warn(\n"
     ]
    },
    {
     "data": {
      "image/png": "[encoded data removed]",
      "text/plain": [
       "<Figure size 432x288 with 1 Axes>"
      ]
     },
     "metadata": {
      "needs_background": "light"
     },
     "output_type": "display_data"
    },
    {
     "name": "stderr",
     "output_type": "stream",
     "text": [
      "c:\\users\\natale\\appdata\\local\\programs\\python\\python39\\lib\\site-packages\\seaborn\\_decorators.py:36: FutureWarning: Pass the following variable as a keyword arg: x. From version 0.12, the only valid positional argument will be `data`, and passing other arguments without an explicit keyword will result in an error or misinterpretation.\n",
      "  warnings.warn(\n"
     ]
    },
    {
     "data": {
      "image/png": "[encoded data removed]",
      "text/plain": [
       "<Figure size 432x288 with 1 Axes>"
      ]
     },
     "metadata": {
      "needs_background": "light"
     },
     "output_type": "display_data"
    },
    {
     "name": "stderr",
     "output_type": "stream",
     "text": [
      "c:\\users\\natale\\appdata\\local\\programs\\python\\python39\\lib\\site-packages\\seaborn\\_decorators.py:36: FutureWarning: Pass the following variable as a keyword arg: x. From version 0.12, the only valid positional argument will be `data`, and passing other arguments without an explicit keyword will result in an error or misinterpretation.\n",
      "  warnings.warn(\n"
     ]
    },
    {
     "data": {
      "image/png": "[encoded data removed]",
      "text/plain": [
       "<Figure size 432x288 with 1 Axes>"
      ]
     },
     "metadata": {
      "needs_background": "light"
     },
     "output_type": "display_data"
    }
   ],
   "source": [
    "for x in credit_df.columns:\n",
    "    sns.boxplot(credit_df[x])\n",
    "    plt.title(x)\n",
    "    plt.show()"
   ]
  },
  {
   "cell_type": "code",
   "execution_count": 72,
   "metadata": {},
   "outputs": [],
   "source": [
    "credit_df = credit_df.drop(columns=['CUST_ID'])"
   ]
  },
  {
   "cell_type": "markdown",
   "metadata": {},
   "source": [
    "### Standard Scaler"
   ]
  },
  {
   "cell_type": "code",
   "execution_count": 109,
   "metadata": {},
   "outputs": [
    {
     "data": {
      "text/html": [
       "<div>\n",
       "<style scoped>\n",
       "    .dataframe tbody tr th:only-of-type {\n",
       "        vertical-align: middle;\n",
       "    }\n",
       "\n",
       "    .dataframe tbody tr th {\n",
       "        vertical-align: top;\n",
       "    }\n",
       "\n",
       "    .dataframe thead th {\n",
       "        text-align: right;\n",
       "    }\n",
       "</style>\n",
       "<table border=\"1\" class=\"dataframe\">\n",
       "  <thead>\n",
       "    <tr style=\"text-align: right;\">\n",
       "      <th></th>\n",
       "      <th>0</th>\n",
       "      <th>1</th>\n",
       "      <th>2</th>\n",
       "      <th>3</th>\n",
       "      <th>4</th>\n",
       "      <th>5</th>\n",
       "      <th>6</th>\n",
       "      <th>7</th>\n",
       "      <th>8</th>\n",
       "      <th>9</th>\n",
       "      <th>10</th>\n",
       "      <th>11</th>\n",
       "      <th>12</th>\n",
       "      <th>13</th>\n",
       "      <th>14</th>\n",
       "      <th>15</th>\n",
       "      <th>16</th>\n",
       "      <th>17</th>\n",
       "    </tr>\n",
       "  </thead>\n",
       "  <tbody>\n",
       "    <tr>\n",
       "      <th>count</th>\n",
       "      <td>8.950000e+03</td>\n",
       "      <td>8.950000e+03</td>\n",
       "      <td>8.950000e+03</td>\n",
       "      <td>8.950000e+03</td>\n",
       "      <td>8.950000e+03</td>\n",
       "      <td>8.950000e+03</td>\n",
       "      <td>8.950000e+03</td>\n",
       "      <td>8.950000e+03</td>\n",
       "      <td>8.950000e+03</td>\n",
       "      <td>8.950000e+03</td>\n",
       "      <td>8.950000e+03</td>\n",
       "      <td>8.950000e+03</td>\n",
       "      <td>8.950000e+03</td>\n",
       "      <td>8.950000e+03</td>\n",
       "      <td>8.950000e+03</td>\n",
       "      <td>8.950000e+03</td>\n",
       "      <td>8.950000e+03</td>\n",
       "      <td>8.950000e+03</td>\n",
       "    </tr>\n",
       "    <tr>\n",
       "      <th>mean</th>\n",
       "      <td>-2.540488e-17</td>\n",
       "      <td>1.587805e-16</td>\n",
       "      <td>3.175610e-18</td>\n",
       "      <td>-6.033659e-17</td>\n",
       "      <td>3.175610e-17</td>\n",
       "      <td>-4.763415e-18</td>\n",
       "      <td>9.010793e-17</td>\n",
       "      <td>1.905366e-17</td>\n",
       "      <td>5.716098e-17</td>\n",
       "      <td>-1.635439e-16</td>\n",
       "      <td>-1.746585e-17</td>\n",
       "      <td>-1.905366e-17</td>\n",
       "      <td>6.351220e-17</td>\n",
       "      <td>3.493171e-17</td>\n",
       "      <td>-1.905366e-17</td>\n",
       "      <td>-1.270244e-17</td>\n",
       "      <td>2.921561e-16</td>\n",
       "      <td>1.270244e-17</td>\n",
       "    </tr>\n",
       "    <tr>\n",
       "      <th>std</th>\n",
       "      <td>1.000056e+00</td>\n",
       "      <td>1.000056e+00</td>\n",
       "      <td>1.000056e+00</td>\n",
       "      <td>1.000056e+00</td>\n",
       "      <td>1.000056e+00</td>\n",
       "      <td>1.000056e+00</td>\n",
       "      <td>1.000056e+00</td>\n",
       "      <td>1.000056e+00</td>\n",
       "      <td>1.000056e+00</td>\n",
       "      <td>1.000056e+00</td>\n",
       "      <td>1.000056e+00</td>\n",
       "      <td>1.000056e+00</td>\n",
       "      <td>1.000056e+00</td>\n",
       "      <td>1.000056e+00</td>\n",
       "      <td>1.000056e+00</td>\n",
       "      <td>1.000056e+00</td>\n",
       "      <td>1.000056e+00</td>\n",
       "      <td>1.000056e+00</td>\n",
       "    </tr>\n",
       "    <tr>\n",
       "      <th>min</th>\n",
       "      <td>-7.516398e-01</td>\n",
       "      <td>-3.703271e+00</td>\n",
       "      <td>-4.695519e-01</td>\n",
       "      <td>-3.569340e-01</td>\n",
       "      <td>-4.545762e-01</td>\n",
       "      <td>-4.667856e-01</td>\n",
       "      <td>-1.221758e+00</td>\n",
       "      <td>-6.786608e-01</td>\n",
       "      <td>-9.169952e-01</td>\n",
       "      <td>-6.753489e-01</td>\n",
       "      <td>-4.760698e-01</td>\n",
       "      <td>-5.917959e-01</td>\n",
       "      <td>-1.235035e+00</td>\n",
       "      <td>-5.986883e-01</td>\n",
       "      <td>-3.570350e-01</td>\n",
       "      <td>-5.255510e-01</td>\n",
       "      <td>-4.122768e+00</td>\n",
       "      <td>-7.283439e-01</td>\n",
       "    </tr>\n",
       "    <tr>\n",
       "      <th>25%</th>\n",
       "      <td>-6.900078e-01</td>\n",
       "      <td>4.904486e-02</td>\n",
       "      <td>-4.510006e-01</td>\n",
       "      <td>-3.569340e-01</td>\n",
       "      <td>-4.545762e-01</td>\n",
       "      <td>-4.667856e-01</td>\n",
       "      <td>-1.014125e+00</td>\n",
       "      <td>-6.786608e-01</td>\n",
       "      <td>-9.169952e-01</td>\n",
       "      <td>-6.753489e-01</td>\n",
       "      <td>-4.760698e-01</td>\n",
       "      <td>-5.515646e-01</td>\n",
       "      <td>-7.953203e-01</td>\n",
       "      <td>-4.662913e-01</td>\n",
       "      <td>-2.872413e-01</td>\n",
       "      <td>-5.255510e-01</td>\n",
       "      <td>3.606795e-01</td>\n",
       "      <td>-7.283439e-01</td>\n",
       "    </tr>\n",
       "    <tr>\n",
       "      <th>50%</th>\n",
       "      <td>-3.320286e-01</td>\n",
       "      <td>5.180838e-01</td>\n",
       "      <td>-3.004541e-01</td>\n",
       "      <td>-3.340396e-01</td>\n",
       "      <td>-3.561562e-01</td>\n",
       "      <td>-4.667856e-01</td>\n",
       "      <td>2.404259e-02</td>\n",
       "      <td>-3.993193e-01</td>\n",
       "      <td>-4.976286e-01</td>\n",
       "      <td>-6.753489e-01</td>\n",
       "      <td>-4.760698e-01</td>\n",
       "      <td>-3.101767e-01</td>\n",
       "      <td>-4.105695e-01</td>\n",
       "      <td>-3.026846e-01</td>\n",
       "      <td>-2.330427e-01</td>\n",
       "      <td>-5.255510e-01</td>\n",
       "      <td>3.606795e-01</td>\n",
       "      <td>-7.283439e-01</td>\n",
       "    </tr>\n",
       "    <tr>\n",
       "      <th>75%</th>\n",
       "      <td>2.352559e-01</td>\n",
       "      <td>5.180838e-01</td>\n",
       "      <td>5.004652e-02</td>\n",
       "      <td>-9.056763e-03</td>\n",
       "      <td>6.366321e-02</td>\n",
       "      <td>6.435242e-02</td>\n",
       "      <td>1.062211e+00</td>\n",
       "      <td>3.269728e-01</td>\n",
       "      <td>9.701506e-01</td>\n",
       "      <td>4.351492e-01</td>\n",
       "      <td>1.100739e-01</td>\n",
       "      <td>9.213645e-02</td>\n",
       "      <td>5.513074e-01</td>\n",
       "      <td>5.802976e-02</td>\n",
       "      <td>-1.938043e-02</td>\n",
       "      <td>-3.712234e-02</td>\n",
       "      <td>3.606795e-01</td>\n",
       "      <td>1.436611e+00</td>\n",
       "    </tr>\n",
       "    <tr>\n",
       "      <th>max</th>\n",
       "      <td>8.397489e+00</td>\n",
       "      <td>5.180838e-01</td>\n",
       "      <td>2.248351e+01</td>\n",
       "      <td>2.420107e+01</td>\n",
       "      <td>2.442689e+01</td>\n",
       "      <td>2.201112e+01</td>\n",
       "      <td>1.269843e+00</td>\n",
       "      <td>2.673451e+00</td>\n",
       "      <td>1.599199e+00</td>\n",
       "      <td>6.820521e+00</td>\n",
       "      <td>1.754785e+01</td>\n",
       "      <td>1.381101e+01</td>\n",
       "      <td>7.009624e+00</td>\n",
       "      <td>1.692228e+01</td>\n",
       "      <td>3.235307e+01</td>\n",
       "      <td>2.893453e+00</td>\n",
       "      <td>3.606795e-01</td>\n",
       "      <td>3.601565e+00</td>\n",
       "    </tr>\n",
       "  </tbody>\n",
       "</table>\n",
       "</div>"
      ],
      "text/plain": [
       "                 0             1             2             3             4   \\\n",
       "count  8.950000e+03  8.950000e+03  8.950000e+03  8.950000e+03  8.950000e+03   \n",
       "mean  -2.540488e-17  1.587805e-16  3.175610e-18 -6.033659e-17  3.175610e-17   \n",
       "std    1.000056e+00  1.000056e+00  1.000056e+00  1.000056e+00  1.000056e+00   \n",
       "min   -7.516398e-01 -3.703271e+00 -4.695519e-01 -3.569340e-01 -4.545762e-01   \n",
       "25%   -6.900078e-01  4.904486e-02 -4.510006e-01 -3.569340e-01 -4.545762e-01   \n",
       "50%   -3.320286e-01  5.180838e-01 -3.004541e-01 -3.340396e-01 -3.561562e-01   \n",
       "75%    2.352559e-01  5.180838e-01  5.004652e-02 -9.056763e-03  6.366321e-02   \n",
       "max    8.397489e+00  5.180838e-01  2.248351e+01  2.420107e+01  2.442689e+01   \n",
       "\n",
       "                 5             6             7             8             9   \\\n",
       "count  8.950000e+03  8.950000e+03  8.950000e+03  8.950000e+03  8.950000e+03   \n",
       "mean  -4.763415e-18  9.010793e-17  1.905366e-17  5.716098e-17 -1.635439e-16   \n",
       "std    1.000056e+00  1.000056e+00  1.000056e+00  1.000056e+00  1.000056e+00   \n",
       "min   -4.667856e-01 -1.221758e+00 -6.786608e-01 -9.169952e-01 -6.753489e-01   \n",
       "25%   -4.667856e-01 -1.014125e+00 -6.786608e-01 -9.169952e-01 -6.753489e-01   \n",
       "50%   -4.667856e-01  2.404259e-02 -3.993193e-01 -4.976286e-01 -6.753489e-01   \n",
       "75%    6.435242e-02  1.062211e+00  3.269728e-01  9.701506e-01  4.351492e-01   \n",
       "max    2.201112e+01  1.269843e+00  2.673451e+00  1.599199e+00  6.820521e+00   \n",
       "\n",
       "                 10            11            12            13            14  \\\n",
       "count  8.950000e+03  8.950000e+03  8.950000e+03  8.950000e+03  8.950000e+03   \n",
       "mean  -1.746585e-17 -1.905366e-17  6.351220e-17  3.493171e-17 -1.905366e-17   \n",
       "std    1.000056e+00  1.000056e+00  1.000056e+00  1.000056e+00  1.000056e+00   \n",
       "min   -4.760698e-01 -5.917959e-01 -1.235035e+00 -5.986883e-01 -3.570350e-01   \n",
       "25%   -4.760698e-01 -5.515646e-01 -7.953203e-01 -4.662913e-01 -2.872413e-01   \n",
       "50%   -4.760698e-01 -3.101767e-01 -4.105695e-01 -3.026846e-01 -2.330427e-01   \n",
       "75%    1.100739e-01  9.213645e-02  5.513074e-01  5.802976e-02 -1.938043e-02   \n",
       "max    1.754785e+01  1.381101e+01  7.009624e+00  1.692228e+01  3.235307e+01   \n",
       "\n",
       "                 15            16            17  \n",
       "count  8.950000e+03  8.950000e+03  8.950000e+03  \n",
       "mean  -1.270244e-17  2.921561e-16  1.270244e-17  \n",
       "std    1.000056e+00  1.000056e+00  1.000056e+00  \n",
       "min   -5.255510e-01 -4.122768e+00 -7.283439e-01  \n",
       "25%   -5.255510e-01  3.606795e-01 -7.283439e-01  \n",
       "50%   -5.255510e-01  3.606795e-01 -7.283439e-01  \n",
       "75%   -3.712234e-02  3.606795e-01  1.436611e+00  \n",
       "max    2.893453e+00  3.606795e-01  3.601565e+00  "
      ]
     },
     "execution_count": 109,
     "metadata": {},
     "output_type": "execute_result"
    }
   ],
   "source": [
    "#media igual a zero e desvio padrão igual a 1\n",
    "scaler = StandardScaler()\n",
    "df_scaler = scaler.fit_transform(credit_df)\n",
    "pd.DataFrame(df_scaler).describe()"
   ]
  },
  {
   "cell_type": "markdown",
   "metadata": {},
   "source": [
    "### Encontrando melhor número de clusters"
   ]
  },
  {
   "cell_type": "code",
   "execution_count": 111,
   "metadata": {},
   "outputs": [
    {
     "data": {
      "text/plain": [
       "Text(0, 0.5, 'Inertia')"
      ]
     },
     "execution_count": 111,
     "metadata": {},
     "output_type": "execute_result"
    },
    {
     "data": {
      "image/png": "[encoded data removed]",
      "text/plain": [
       "<Figure size 864x432 with 1 Axes>"
      ]
     },
     "metadata": {
      "needs_background": "light"
     },
     "output_type": "display_data"
    }
   ],
   "source": [
    "SSE = []\n",
    "for cluster in range(1,20):\n",
    "    kmeans = KMeans(n_clusters = cluster, init='k-means++')\n",
    "    kmeans.fit(df_scaler)\n",
    "    SSE.append(kmeans.inertia_)\n",
    "    \n",
    "frame = pd.DataFrame({'Cluster':range(1,20), 'SSE':SSE})\n",
    "plt.figure(figsize=(12,6))\n",
    "plt.plot(frame['Cluster'], frame['SSE'], marker='o')\n",
    "plt.xlabel('Number of Clusters')\n",
    "plt.ylabel('Inertia')"
   ]
  },
  {
   "cell_type": "markdown",
   "metadata": {},
   "source": [
    "### KMeans para clusterização - Encontrando agrupamentos"
   ]
  },
  {
   "cell_type": "code",
   "execution_count": 153,
   "metadata": {},
   "outputs": [
    {
     "data": {
      "text/plain": [
       "KMeans(n_clusters=3)"
      ]
     },
     "execution_count": 153,
     "metadata": {},
     "output_type": "execute_result"
    }
   ],
   "source": [
    "kmeans = KMeans(3)\n",
    "kmeans.fit(credit_df)"
   ]
  },
  {
   "cell_type": "code",
   "execution_count": 154,
   "metadata": {},
   "outputs": [
    {
     "data": {
      "text/plain": [
       "array([[3.41353295e+03, 9.40515628e-01, 1.58660785e+03, 9.91485664e+02,\n",
       "        5.95437032e+02, 2.13132847e+03, 5.39588838e-01, 3.17256413e-01,\n",
       "        3.85311492e-01, 2.11643752e-01, 5.77484609e+00, 2.21952507e+01,\n",
       "        9.02928960e+03, 2.91165225e+03, 1.55915717e+03, 1.33393157e-01,\n",
       "        1.17370273e+01, 1.77704485e+00],\n",
       "       [8.57047000e+02, 8.54625372e-01, 6.06191150e+02, 3.14255591e+02,\n",
       "        2.92233249e+02, 4.95641141e+02, 4.68042057e-01, 1.54692266e-01,\n",
       "        3.52425900e-01, 1.06754123e-01, 2.25313168e+00, 1.06897342e+01,\n",
       "        2.76010901e+03, 9.98361487e+02, 5.48814928e+02, 1.57184300e-01,\n",
       "        1.14346166e+01, 2.85670639e-01],\n",
       "       [4.84189326e+03, 9.11252077e-01, 1.07893056e+04, 7.61968438e+03,\n",
       "        3.16979046e+03, 5.15222013e+03, 7.52377608e-01, 5.99535492e-01,\n",
       "        6.04122562e-01, 2.26540108e-01, 9.20000000e+00, 8.62000000e+01,\n",
       "        1.24657692e+04, 1.81174305e+04, 2.50835379e+03, 3.34474108e-01,\n",
       "        1.18384615e+01, 1.40769231e+00]])"
      ]
     },
     "execution_count": 154,
     "metadata": {},
     "output_type": "execute_result"
    }
   ],
   "source": [
    "kmeans.cluster_centers_"
   ]
  },
  {
   "cell_type": "code",
   "execution_count": 155,
   "metadata": {},
   "outputs": [
    {
     "data": {
      "text/plain": [
       "232944427890.59805"
      ]
     },
     "execution_count": 155,
     "metadata": {},
     "output_type": "execute_result"
    }
   ],
   "source": [
    "kmeans.inertia_"
   ]
  },
  {
   "cell_type": "code",
   "execution_count": 156,
   "metadata": {},
   "outputs": [
    {
     "data": {
      "text/plain": [
       "array([1, 0, 0, ..., 1, 1, 1])"
      ]
     },
     "execution_count": 156,
     "metadata": {},
     "output_type": "execute_result"
    }
   ],
   "source": [
    "kmeans.labels_"
   ]
  },
  {
   "cell_type": "code",
   "execution_count": 157,
   "metadata": {},
   "outputs": [],
   "source": [
    "credit_df['cluster'] = kmeans.predict(credit_df)"
   ]
  },
  {
   "cell_type": "code",
   "execution_count": 158,
   "metadata": {},
   "outputs": [
    {
     "data": {
      "text/html": [
       "<div>\n",
       "<style scoped>\n",
       "    .dataframe tbody tr th:only-of-type {\n",
       "        vertical-align: middle;\n",
       "    }\n",
       "\n",
       "    .dataframe tbody tr th {\n",
       "        vertical-align: top;\n",
       "    }\n",
       "\n",
       "    .dataframe thead th {\n",
       "        text-align: right;\n",
       "    }\n",
       "</style>\n",
       "<table border=\"1\" class=\"dataframe\">\n",
       "  <thead>\n",
       "    <tr style=\"text-align: right;\">\n",
       "      <th></th>\n",
       "      <th>BALANCE</th>\n",
       "      <th>BALANCE_FREQUENCY</th>\n",
       "      <th>PURCHASES</th>\n",
       "      <th>ONEOFF_PURCHASES</th>\n",
       "      <th>INSTALLMENTS_PURCHASES</th>\n",
       "      <th>CASH_ADVANCE</th>\n",
       "      <th>PURCHASES_FREQUENCY</th>\n",
       "      <th>ONEOFF_PURCHASES_FREQUENCY</th>\n",
       "      <th>PURCHASES_INSTALLMENTS_FREQUENCY</th>\n",
       "      <th>CASH_ADVANCE_FREQUENCY</th>\n",
       "      <th>CASH_ADVANCE_TRX</th>\n",
       "      <th>PURCHASES_TRX</th>\n",
       "      <th>CREDIT_LIMIT</th>\n",
       "      <th>PAYMENTS</th>\n",
       "      <th>MINIMUM_PAYMENTS</th>\n",
       "      <th>PRC_FULL_PAYMENT</th>\n",
       "      <th>TENURE</th>\n",
       "      <th>cluster</th>\n",
       "    </tr>\n",
       "  </thead>\n",
       "  <tbody>\n",
       "    <tr>\n",
       "      <th>0</th>\n",
       "      <td>40.900749</td>\n",
       "      <td>0.818182</td>\n",
       "      <td>95.40</td>\n",
       "      <td>0.00</td>\n",
       "      <td>95.40</td>\n",
       "      <td>0.000000</td>\n",
       "      <td>0.166667</td>\n",
       "      <td>0.000000</td>\n",
       "      <td>0.083333</td>\n",
       "      <td>0.000000</td>\n",
       "      <td>0</td>\n",
       "      <td>2</td>\n",
       "      <td>1000.0</td>\n",
       "      <td>201.802084</td>\n",
       "      <td>139.509787</td>\n",
       "      <td>0.000000</td>\n",
       "      <td>12</td>\n",
       "      <td>1</td>\n",
       "    </tr>\n",
       "    <tr>\n",
       "      <th>1</th>\n",
       "      <td>3202.467416</td>\n",
       "      <td>0.909091</td>\n",
       "      <td>0.00</td>\n",
       "      <td>0.00</td>\n",
       "      <td>0.00</td>\n",
       "      <td>6442.945483</td>\n",
       "      <td>0.000000</td>\n",
       "      <td>0.000000</td>\n",
       "      <td>0.000000</td>\n",
       "      <td>0.250000</td>\n",
       "      <td>4</td>\n",
       "      <td>0</td>\n",
       "      <td>7000.0</td>\n",
       "      <td>4103.032597</td>\n",
       "      <td>1072.340217</td>\n",
       "      <td>0.222222</td>\n",
       "      <td>12</td>\n",
       "      <td>0</td>\n",
       "    </tr>\n",
       "    <tr>\n",
       "      <th>2</th>\n",
       "      <td>2495.148862</td>\n",
       "      <td>1.000000</td>\n",
       "      <td>773.17</td>\n",
       "      <td>773.17</td>\n",
       "      <td>0.00</td>\n",
       "      <td>0.000000</td>\n",
       "      <td>1.000000</td>\n",
       "      <td>1.000000</td>\n",
       "      <td>0.000000</td>\n",
       "      <td>0.000000</td>\n",
       "      <td>0</td>\n",
       "      <td>12</td>\n",
       "      <td>7500.0</td>\n",
       "      <td>622.066742</td>\n",
       "      <td>627.284787</td>\n",
       "      <td>0.000000</td>\n",
       "      <td>12</td>\n",
       "      <td>0</td>\n",
       "    </tr>\n",
       "    <tr>\n",
       "      <th>3</th>\n",
       "      <td>1666.670542</td>\n",
       "      <td>0.636364</td>\n",
       "      <td>1499.00</td>\n",
       "      <td>1499.00</td>\n",
       "      <td>0.00</td>\n",
       "      <td>205.788017</td>\n",
       "      <td>0.083333</td>\n",
       "      <td>0.083333</td>\n",
       "      <td>0.000000</td>\n",
       "      <td>0.083333</td>\n",
       "      <td>1</td>\n",
       "      <td>1</td>\n",
       "      <td>7500.0</td>\n",
       "      <td>0.000000</td>\n",
       "      <td>0.000000</td>\n",
       "      <td>0.000000</td>\n",
       "      <td>12</td>\n",
       "      <td>0</td>\n",
       "    </tr>\n",
       "    <tr>\n",
       "      <th>4</th>\n",
       "      <td>817.714335</td>\n",
       "      <td>1.000000</td>\n",
       "      <td>16.00</td>\n",
       "      <td>16.00</td>\n",
       "      <td>0.00</td>\n",
       "      <td>0.000000</td>\n",
       "      <td>0.083333</td>\n",
       "      <td>0.083333</td>\n",
       "      <td>0.000000</td>\n",
       "      <td>0.000000</td>\n",
       "      <td>0</td>\n",
       "      <td>1</td>\n",
       "      <td>1200.0</td>\n",
       "      <td>678.334763</td>\n",
       "      <td>244.791237</td>\n",
       "      <td>0.000000</td>\n",
       "      <td>12</td>\n",
       "      <td>1</td>\n",
       "    </tr>\n",
       "    <tr>\n",
       "      <th>...</th>\n",
       "      <td>...</td>\n",
       "      <td>...</td>\n",
       "      <td>...</td>\n",
       "      <td>...</td>\n",
       "      <td>...</td>\n",
       "      <td>...</td>\n",
       "      <td>...</td>\n",
       "      <td>...</td>\n",
       "      <td>...</td>\n",
       "      <td>...</td>\n",
       "      <td>...</td>\n",
       "      <td>...</td>\n",
       "      <td>...</td>\n",
       "      <td>...</td>\n",
       "      <td>...</td>\n",
       "      <td>...</td>\n",
       "      <td>...</td>\n",
       "      <td>...</td>\n",
       "    </tr>\n",
       "    <tr>\n",
       "      <th>8945</th>\n",
       "      <td>28.493517</td>\n",
       "      <td>1.000000</td>\n",
       "      <td>291.12</td>\n",
       "      <td>0.00</td>\n",
       "      <td>291.12</td>\n",
       "      <td>0.000000</td>\n",
       "      <td>1.000000</td>\n",
       "      <td>0.000000</td>\n",
       "      <td>0.833333</td>\n",
       "      <td>0.000000</td>\n",
       "      <td>0</td>\n",
       "      <td>6</td>\n",
       "      <td>1000.0</td>\n",
       "      <td>325.594462</td>\n",
       "      <td>48.886365</td>\n",
       "      <td>0.500000</td>\n",
       "      <td>6</td>\n",
       "      <td>1</td>\n",
       "    </tr>\n",
       "    <tr>\n",
       "      <th>8946</th>\n",
       "      <td>19.183215</td>\n",
       "      <td>1.000000</td>\n",
       "      <td>300.00</td>\n",
       "      <td>0.00</td>\n",
       "      <td>300.00</td>\n",
       "      <td>0.000000</td>\n",
       "      <td>1.000000</td>\n",
       "      <td>0.000000</td>\n",
       "      <td>0.833333</td>\n",
       "      <td>0.000000</td>\n",
       "      <td>0</td>\n",
       "      <td>6</td>\n",
       "      <td>1000.0</td>\n",
       "      <td>275.861322</td>\n",
       "      <td>0.000000</td>\n",
       "      <td>0.000000</td>\n",
       "      <td>6</td>\n",
       "      <td>1</td>\n",
       "    </tr>\n",
       "    <tr>\n",
       "      <th>8947</th>\n",
       "      <td>23.398673</td>\n",
       "      <td>0.833333</td>\n",
       "      <td>144.40</td>\n",
       "      <td>0.00</td>\n",
       "      <td>144.40</td>\n",
       "      <td>0.000000</td>\n",
       "      <td>0.833333</td>\n",
       "      <td>0.000000</td>\n",
       "      <td>0.666667</td>\n",
       "      <td>0.000000</td>\n",
       "      <td>0</td>\n",
       "      <td>5</td>\n",
       "      <td>1000.0</td>\n",
       "      <td>81.270775</td>\n",
       "      <td>82.418369</td>\n",
       "      <td>0.250000</td>\n",
       "      <td>6</td>\n",
       "      <td>1</td>\n",
       "    </tr>\n",
       "    <tr>\n",
       "      <th>8948</th>\n",
       "      <td>13.457564</td>\n",
       "      <td>0.833333</td>\n",
       "      <td>0.00</td>\n",
       "      <td>0.00</td>\n",
       "      <td>0.00</td>\n",
       "      <td>36.558778</td>\n",
       "      <td>0.000000</td>\n",
       "      <td>0.000000</td>\n",
       "      <td>0.000000</td>\n",
       "      <td>0.166667</td>\n",
       "      <td>2</td>\n",
       "      <td>0</td>\n",
       "      <td>500.0</td>\n",
       "      <td>52.549959</td>\n",
       "      <td>55.755628</td>\n",
       "      <td>0.250000</td>\n",
       "      <td>6</td>\n",
       "      <td>1</td>\n",
       "    </tr>\n",
       "    <tr>\n",
       "      <th>8949</th>\n",
       "      <td>372.708075</td>\n",
       "      <td>0.666667</td>\n",
       "      <td>1093.25</td>\n",
       "      <td>1093.25</td>\n",
       "      <td>0.00</td>\n",
       "      <td>127.040008</td>\n",
       "      <td>0.666667</td>\n",
       "      <td>0.666667</td>\n",
       "      <td>0.000000</td>\n",
       "      <td>0.333333</td>\n",
       "      <td>2</td>\n",
       "      <td>23</td>\n",
       "      <td>1200.0</td>\n",
       "      <td>63.165404</td>\n",
       "      <td>88.288956</td>\n",
       "      <td>0.000000</td>\n",
       "      <td>6</td>\n",
       "      <td>1</td>\n",
       "    </tr>\n",
       "  </tbody>\n",
       "</table>\n",
       "<p>8950 rows × 18 columns</p>\n",
       "</div>"
      ],
      "text/plain": [
       "          BALANCE  BALANCE_FREQUENCY  PURCHASES  ONEOFF_PURCHASES  \\\n",
       "0       40.900749           0.818182      95.40              0.00   \n",
       "1     3202.467416           0.909091       0.00              0.00   \n",
       "2     2495.148862           1.000000     773.17            773.17   \n",
       "3     1666.670542           0.636364    1499.00           1499.00   \n",
       "4      817.714335           1.000000      16.00             16.00   \n",
       "...           ...                ...        ...               ...   \n",
       "8945    28.493517           1.000000     291.12              0.00   \n",
       "8946    19.183215           1.000000     300.00              0.00   \n",
       "8947    23.398673           0.833333     144.40              0.00   \n",
       "8948    13.457564           0.833333       0.00              0.00   \n",
       "8949   372.708075           0.666667    1093.25           1093.25   \n",
       "\n",
       "      INSTALLMENTS_PURCHASES  CASH_ADVANCE  PURCHASES_FREQUENCY  \\\n",
       "0                      95.40      0.000000             0.166667   \n",
       "1                       0.00   6442.945483             0.000000   \n",
       "2                       0.00      0.000000             1.000000   \n",
       "3                       0.00    205.788017             0.083333   \n",
       "4                       0.00      0.000000             0.083333   \n",
       "...                      ...           ...                  ...   \n",
       "8945                  291.12      0.000000             1.000000   \n",
       "8946                  300.00      0.000000             1.000000   \n",
       "8947                  144.40      0.000000             0.833333   \n",
       "8948                    0.00     36.558778             0.000000   \n",
       "8949                    0.00    127.040008             0.666667   \n",
       "\n",
       "      ONEOFF_PURCHASES_FREQUENCY  PURCHASES_INSTALLMENTS_FREQUENCY  \\\n",
       "0                       0.000000                          0.083333   \n",
       "1                       0.000000                          0.000000   \n",
       "2                       1.000000                          0.000000   \n",
       "3                       0.083333                          0.000000   \n",
       "4                       0.083333                          0.000000   \n",
       "...                          ...                               ...   \n",
       "8945                    0.000000                          0.833333   \n",
       "8946                    0.000000                          0.833333   \n",
       "8947                    0.000000                          0.666667   \n",
       "8948                    0.000000                          0.000000   \n",
       "8949                    0.666667                          0.000000   \n",
       "\n",
       "      CASH_ADVANCE_FREQUENCY  CASH_ADVANCE_TRX  PURCHASES_TRX  CREDIT_LIMIT  \\\n",
       "0                   0.000000                 0              2        1000.0   \n",
       "1                   0.250000                 4              0        7000.0   \n",
       "2                   0.000000                 0             12        7500.0   \n",
       "3                   0.083333                 1              1        7500.0   \n",
       "4                   0.000000                 0              1        1200.0   \n",
       "...                      ...               ...            ...           ...   \n",
       "8945                0.000000                 0              6        1000.0   \n",
       "8946                0.000000                 0              6        1000.0   \n",
       "8947                0.000000                 0              5        1000.0   \n",
       "8948                0.166667                 2              0         500.0   \n",
       "8949                0.333333                 2             23        1200.0   \n",
       "\n",
       "         PAYMENTS  MINIMUM_PAYMENTS  PRC_FULL_PAYMENT  TENURE  cluster  \n",
       "0      201.802084        139.509787          0.000000      12        1  \n",
       "1     4103.032597       1072.340217          0.222222      12        0  \n",
       "2      622.066742        627.284787          0.000000      12        0  \n",
       "3        0.000000          0.000000          0.000000      12        0  \n",
       "4      678.334763        244.791237          0.000000      12        1  \n",
       "...           ...               ...               ...     ...      ...  \n",
       "8945   325.594462         48.886365          0.500000       6        1  \n",
       "8946   275.861322          0.000000          0.000000       6        1  \n",
       "8947    81.270775         82.418369          0.250000       6        1  \n",
       "8948    52.549959         55.755628          0.250000       6        1  \n",
       "8949    63.165404         88.288956          0.000000       6        1  \n",
       "\n",
       "[8950 rows x 18 columns]"
      ]
     },
     "execution_count": 158,
     "metadata": {},
     "output_type": "execute_result"
    }
   ],
   "source": [
    "credit_df"
   ]
  },
  {
   "cell_type": "code",
   "execution_count": 159,
   "metadata": {},
   "outputs": [],
   "source": [
    "credit_df['cluster'] = credit_df['cluster'].astype('str')"
   ]
  },
  {
   "cell_type": "code",
   "execution_count": 160,
   "metadata": {},
   "outputs": [
    {
     "data": {
      "text/plain": [
       "cluster  cluster\n",
       "0        0          2280\n",
       "1        1          6540\n",
       "2        2           130\n",
       "Name: cluster, dtype: int64"
      ]
     },
     "execution_count": 160,
     "metadata": {},
     "output_type": "execute_result"
    }
   ],
   "source": [
    "credit_df.groupby('cluster')['cluster'].value_counts()"
   ]
  },
  {
   "cell_type": "code",
   "execution_count": 161,
   "metadata": {},
   "outputs": [],
   "source": [
    "FEATURES = ['BALANCE', 'BALANCE_FREQUENCY', 'PURCHASES', 'ONEOFF_PURCHASES',\n",
    "       'INSTALLMENTS_PURCHASES', 'CASH_ADVANCE', 'PURCHASES_FREQUENCY',\n",
    "       'ONEOFF_PURCHASES_FREQUENCY', 'PURCHASES_INSTALLMENTS_FREQUENCY',\n",
    "       'CASH_ADVANCE_FREQUENCY', 'CASH_ADVANCE_TRX', 'PURCHASES_TRX',\n",
    "       'CREDIT_LIMIT', 'PAYMENTS', 'MINIMUM_PAYMENTS', 'PRC_FULL_PAYMENT',\n",
    "       'TENURE']"
   ]
  },
  {
   "cell_type": "code",
   "execution_count": 162,
   "metadata": {},
   "outputs": [
    {
     "data": {
      "text/plain": [
       "PCA(n_components=2)"
      ]
     },
     "execution_count": 162,
     "metadata": {},
     "output_type": "execute_result"
    }
   ],
   "source": [
    "pca = PCA(2)\n",
    "pca.fit(credit_df[FEATURES])"
   ]
  },
  {
   "cell_type": "code",
   "execution_count": 163,
   "metadata": {},
   "outputs": [
    {
     "data": {
      "text/plain": [
       "array([0.47540672, 0.17759459])"
      ]
     },
     "execution_count": 163,
     "metadata": {},
     "output_type": "execute_result"
    }
   ],
   "source": [
    "pca.explained_variance_ratio_"
   ]
  },
  {
   "cell_type": "code",
   "execution_count": 164,
   "metadata": {},
   "outputs": [],
   "source": [
    "pca_df = pd.DataFrame(pca.transform(credit_df[FEATURES]), columns = ['PCA1', 'PCA2'])\n",
    "\n",
    "pca_df['cluester'] = credit_df['cluster']"
   ]
  },
  {
   "cell_type": "code",
   "execution_count": 165,
   "metadata": {},
   "outputs": [
    {
     "data": {
      "text/html": [
       "<div>\n",
       "<style scoped>\n",
       "    .dataframe tbody tr th:only-of-type {\n",
       "        vertical-align: middle;\n",
       "    }\n",
       "\n",
       "    .dataframe tbody tr th {\n",
       "        vertical-align: top;\n",
       "    }\n",
       "\n",
       "    .dataframe thead th {\n",
       "        text-align: right;\n",
       "    }\n",
       "</style>\n",
       "<table border=\"1\" class=\"dataframe\">\n",
       "  <thead>\n",
       "    <tr style=\"text-align: right;\">\n",
       "      <th></th>\n",
       "      <th>PCA1</th>\n",
       "      <th>PCA2</th>\n",
       "      <th>cluester</th>\n",
       "    </tr>\n",
       "  </thead>\n",
       "  <tbody>\n",
       "    <tr>\n",
       "      <th>0</th>\n",
       "      <td>-4322.502965</td>\n",
       "      <td>912.075900</td>\n",
       "      <td>1</td>\n",
       "    </tr>\n",
       "    <tr>\n",
       "      <th>1</th>\n",
       "      <td>4122.881755</td>\n",
       "      <td>-2440.379395</td>\n",
       "      <td>0</td>\n",
       "    </tr>\n",
       "    <tr>\n",
       "      <th>2</th>\n",
       "      <td>1500.437024</td>\n",
       "      <td>-2003.323087</td>\n",
       "      <td>0</td>\n",
       "    </tr>\n",
       "    <tr>\n",
       "      <th>3</th>\n",
       "      <td>1279.846965</td>\n",
       "      <td>-1330.413945</td>\n",
       "      <td>0</td>\n",
       "    </tr>\n",
       "    <tr>\n",
       "      <th>4</th>\n",
       "      <td>-3739.093063</td>\n",
       "      <td>748.091636</td>\n",
       "      <td>1</td>\n",
       "    </tr>\n",
       "    <tr>\n",
       "      <th>...</th>\n",
       "      <td>...</td>\n",
       "      <td>...</td>\n",
       "      <td>...</td>\n",
       "    </tr>\n",
       "    <tr>\n",
       "      <th>8945</th>\n",
       "      <td>-4204.883548</td>\n",
       "      <td>1112.855914</td>\n",
       "      <td>1</td>\n",
       "    </tr>\n",
       "    <tr>\n",
       "      <th>8946</th>\n",
       "      <td>-4235.167897</td>\n",
       "      <td>1106.984318</td>\n",
       "      <td>1</td>\n",
       "    </tr>\n",
       "    <tr>\n",
       "      <th>8947</th>\n",
       "      <td>-4375.764932</td>\n",
       "      <td>901.886777</td>\n",
       "      <td>1</td>\n",
       "    </tr>\n",
       "    <tr>\n",
       "      <th>8948</th>\n",
       "      <td>-4787.247978</td>\n",
       "      <td>1022.584853</td>\n",
       "      <td>1</td>\n",
       "    </tr>\n",
       "    <tr>\n",
       "      <th>8949</th>\n",
       "      <td>-3620.439444</td>\n",
       "      <td>1546.719689</td>\n",
       "      <td>1</td>\n",
       "    </tr>\n",
       "  </tbody>\n",
       "</table>\n",
       "<p>8950 rows × 3 columns</p>\n",
       "</div>"
      ],
      "text/plain": [
       "             PCA1         PCA2 cluester\n",
       "0    -4322.502965   912.075900        1\n",
       "1     4122.881755 -2440.379395        0\n",
       "2     1500.437024 -2003.323087        0\n",
       "3     1279.846965 -1330.413945        0\n",
       "4    -3739.093063   748.091636        1\n",
       "...           ...          ...      ...\n",
       "8945 -4204.883548  1112.855914        1\n",
       "8946 -4235.167897  1106.984318        1\n",
       "8947 -4375.764932   901.886777        1\n",
       "8948 -4787.247978  1022.584853        1\n",
       "8949 -3620.439444  1546.719689        1\n",
       "\n",
       "[8950 rows x 3 columns]"
      ]
     },
     "execution_count": 165,
     "metadata": {},
     "output_type": "execute_result"
    }
   ],
   "source": [
    "pca_df"
   ]
  },
  {
   "cell_type": "markdown",
   "metadata": {},
   "source": [
    "### Visualizando os agrupamentos"
   ]
  },
  {
   "cell_type": "code",
   "execution_count": 166,
   "metadata": {},
   "outputs": [
    {
     "data": {
      "image/png": "[encoded data removed]",
      "text/plain": [
       "<Figure size 864x432 with 1 Axes>"
      ]
     },
     "metadata": {
      "needs_background": "light"
     },
     "output_type": "display_data"
    }
   ],
   "source": [
    "plt.figure(figsize = (12,6))\n",
    "sns.scatterplot(x = 'PCA1', y = 'PCA2', hue = 'cluester', data = pca_df)\n",
    "plt.show()"
   ]
  },
  {
   "cell_type": "markdown",
   "metadata": {},
   "source": [
    "### Aplicando modelo de regressão para oferta de crédito nos diferentes grupos"
   ]
  },
  {
   "cell_type": "markdown",
   "metadata": {},
   "source": [
    "### Grupo 0"
   ]
  },
  {
   "cell_type": "code",
   "execution_count": 184,
   "metadata": {},
   "outputs": [],
   "source": [
    "credit_df_0 = credit_df[credit_df['cluster'] == '0']"
   ]
  },
  {
   "cell_type": "code",
   "execution_count": 186,
   "metadata": {},
   "outputs": [],
   "source": [
    "credit_features = credit_df_0.drop(columns=['CREDIT_LIMIT'])\n",
    "credit_target = credit_df_0['CREDIT_LIMIT'].reset_index().drop(columns=['index'])"
   ]
  },
  {
   "cell_type": "code",
   "execution_count": 189,
   "metadata": {},
   "outputs": [
    {
     "data": {
      "text/html": [
       "<div>\n",
       "<style scoped>\n",
       "    .dataframe tbody tr th:only-of-type {\n",
       "        vertical-align: middle;\n",
       "    }\n",
       "\n",
       "    .dataframe tbody tr th {\n",
       "        vertical-align: top;\n",
       "    }\n",
       "\n",
       "    .dataframe thead th {\n",
       "        text-align: right;\n",
       "    }\n",
       "</style>\n",
       "<table border=\"1\" class=\"dataframe\">\n",
       "  <thead>\n",
       "    <tr style=\"text-align: right;\">\n",
       "      <th></th>\n",
       "      <th>BALANCE</th>\n",
       "      <th>BALANCE_FREQUENCY</th>\n",
       "      <th>PURCHASES</th>\n",
       "      <th>ONEOFF_PURCHASES</th>\n",
       "      <th>INSTALLMENTS_PURCHASES</th>\n",
       "      <th>CASH_ADVANCE</th>\n",
       "      <th>PURCHASES_FREQUENCY</th>\n",
       "      <th>ONEOFF_PURCHASES_FREQUENCY</th>\n",
       "      <th>PURCHASES_INSTALLMENTS_FREQUENCY</th>\n",
       "      <th>CASH_ADVANCE_FREQUENCY</th>\n",
       "      <th>CASH_ADVANCE_TRX</th>\n",
       "      <th>PURCHASES_TRX</th>\n",
       "      <th>PAYMENTS</th>\n",
       "      <th>MINIMUM_PAYMENTS</th>\n",
       "      <th>PRC_FULL_PAYMENT</th>\n",
       "      <th>TENURE</th>\n",
       "      <th>cluster</th>\n",
       "    </tr>\n",
       "  </thead>\n",
       "  <tbody>\n",
       "    <tr>\n",
       "      <th>0</th>\n",
       "      <td>-0.072387</td>\n",
       "      <td>-0.196912</td>\n",
       "      <td>-0.791944</td>\n",
       "      <td>-0.661647</td>\n",
       "      <td>-0.586316</td>\n",
       "      <td>1.529178</td>\n",
       "      <td>-1.308668</td>\n",
       "      <td>-0.894451</td>\n",
       "      <td>-0.945731</td>\n",
       "      <td>0.155001</td>\n",
       "      <td>-0.184373</td>\n",
       "      <td>-0.708213</td>\n",
       "      <td>0.461600</td>\n",
       "      <td>-0.126532</td>\n",
       "      <td>0.310639</td>\n",
       "      <td>0.270273</td>\n",
       "      <td>0.0</td>\n",
       "    </tr>\n",
       "    <tr>\n",
       "      <th>1</th>\n",
       "      <td>-0.320465</td>\n",
       "      <td>0.371350</td>\n",
       "      <td>-0.405821</td>\n",
       "      <td>-0.145581</td>\n",
       "      <td>-0.586316</td>\n",
       "      <td>-0.753892</td>\n",
       "      <td>1.116778</td>\n",
       "      <td>1.925480</td>\n",
       "      <td>-0.945731</td>\n",
       "      <td>-0.847399</td>\n",
       "      <td>-0.602445</td>\n",
       "      <td>-0.324971</td>\n",
       "      <td>-0.881284</td>\n",
       "      <td>-0.242859</td>\n",
       "      <td>-0.472224</td>\n",
       "      <td>0.270273</td>\n",
       "      <td>0.0</td>\n",
       "    </tr>\n",
       "    <tr>\n",
       "      <th>2</th>\n",
       "      <td>-0.611037</td>\n",
       "      <td>-1.901695</td>\n",
       "      <td>-0.043339</td>\n",
       "      <td>0.338887</td>\n",
       "      <td>-0.586316</td>\n",
       "      <td>-0.680971</td>\n",
       "      <td>-1.106549</td>\n",
       "      <td>-0.659458</td>\n",
       "      <td>-0.945731</td>\n",
       "      <td>-0.513267</td>\n",
       "      <td>-0.497927</td>\n",
       "      <td>-0.676276</td>\n",
       "      <td>-1.121264</td>\n",
       "      <td>-0.406817</td>\n",
       "      <td>-0.472224</td>\n",
       "      <td>0.270273</td>\n",
       "      <td>0.0</td>\n",
       "    </tr>\n",
       "    <tr>\n",
       "      <th>3</th>\n",
       "      <td>-0.975590</td>\n",
       "      <td>0.371350</td>\n",
       "      <td>2.749324</td>\n",
       "      <td>3.611900</td>\n",
       "      <td>0.092226</td>\n",
       "      <td>-0.753892</td>\n",
       "      <td>1.116778</td>\n",
       "      <td>1.925480</td>\n",
       "      <td>1.508668</td>\n",
       "      <td>-0.847399</td>\n",
       "      <td>-0.602445</td>\n",
       "      <td>1.335743</td>\n",
       "      <td>1.330097</td>\n",
       "      <td>-0.355047</td>\n",
       "      <td>3.050666</td>\n",
       "      <td>0.270273</td>\n",
       "      <td>0.0</td>\n",
       "    </tr>\n",
       "    <tr>\n",
       "      <th>4</th>\n",
       "      <td>-1.142199</td>\n",
       "      <td>-2.469957</td>\n",
       "      <td>-0.151910</td>\n",
       "      <td>0.193779</td>\n",
       "      <td>-0.586316</td>\n",
       "      <td>-0.753892</td>\n",
       "      <td>-0.904426</td>\n",
       "      <td>-0.424462</td>\n",
       "      <td>-0.945731</td>\n",
       "      <td>-0.847399</td>\n",
       "      <td>-0.602445</td>\n",
       "      <td>-0.612402</td>\n",
       "      <td>-0.671920</td>\n",
       "      <td>-0.380600</td>\n",
       "      <td>-0.472224</td>\n",
       "      <td>0.270273</td>\n",
       "      <td>0.0</td>\n",
       "    </tr>\n",
       "    <tr>\n",
       "      <th>...</th>\n",
       "      <td>...</td>\n",
       "      <td>...</td>\n",
       "      <td>...</td>\n",
       "      <td>...</td>\n",
       "      <td>...</td>\n",
       "      <td>...</td>\n",
       "      <td>...</td>\n",
       "      <td>...</td>\n",
       "      <td>...</td>\n",
       "      <td>...</td>\n",
       "      <td>...</td>\n",
       "      <td>...</td>\n",
       "      <td>...</td>\n",
       "      <td>...</td>\n",
       "      <td>...</td>\n",
       "      <td>...</td>\n",
       "      <td>...</td>\n",
       "    </tr>\n",
       "    <tr>\n",
       "      <th>2275</th>\n",
       "      <td>-1.154700</td>\n",
       "      <td>-0.765173</td>\n",
       "      <td>-0.269998</td>\n",
       "      <td>-0.510039</td>\n",
       "      <td>0.219994</td>\n",
       "      <td>-0.753892</td>\n",
       "      <td>0.455293</td>\n",
       "      <td>-0.381737</td>\n",
       "      <td>0.393033</td>\n",
       "      <td>-0.847399</td>\n",
       "      <td>-0.602445</td>\n",
       "      <td>-0.165287</td>\n",
       "      <td>-0.635801</td>\n",
       "      <td>-0.369148</td>\n",
       "      <td>0.702071</td>\n",
       "      <td>-0.760198</td>\n",
       "      <td>0.0</td>\n",
       "    </tr>\n",
       "    <tr>\n",
       "      <th>2276</th>\n",
       "      <td>-0.288865</td>\n",
       "      <td>-0.196912</td>\n",
       "      <td>-0.623146</td>\n",
       "      <td>-0.661647</td>\n",
       "      <td>-0.253146</td>\n",
       "      <td>-0.753892</td>\n",
       "      <td>0.014303</td>\n",
       "      <td>-0.894451</td>\n",
       "      <td>0.169904</td>\n",
       "      <td>-0.847399</td>\n",
       "      <td>-0.602445</td>\n",
       "      <td>-0.516592</td>\n",
       "      <td>-0.787073</td>\n",
       "      <td>-0.203857</td>\n",
       "      <td>-0.472224</td>\n",
       "      <td>-0.760198</td>\n",
       "      <td>0.0</td>\n",
       "    </tr>\n",
       "    <tr>\n",
       "      <th>2277</th>\n",
       "      <td>-0.025885</td>\n",
       "      <td>-1.503914</td>\n",
       "      <td>-0.791944</td>\n",
       "      <td>-0.661647</td>\n",
       "      <td>-0.586316</td>\n",
       "      <td>1.309664</td>\n",
       "      <td>-1.308668</td>\n",
       "      <td>-0.894451</td>\n",
       "      <td>-0.945731</td>\n",
       "      <td>0.355480</td>\n",
       "      <td>-0.288891</td>\n",
       "      <td>-0.708213</td>\n",
       "      <td>-0.761961</td>\n",
       "      <td>-0.143614</td>\n",
       "      <td>-0.472224</td>\n",
       "      <td>-1.790669</td>\n",
       "      <td>0.0</td>\n",
       "    </tr>\n",
       "    <tr>\n",
       "      <th>2278</th>\n",
       "      <td>-0.378310</td>\n",
       "      <td>0.371350</td>\n",
       "      <td>-0.132732</td>\n",
       "      <td>-0.661647</td>\n",
       "      <td>0.714820</td>\n",
       "      <td>4.535444</td>\n",
       "      <td>-0.269192</td>\n",
       "      <td>-0.894451</td>\n",
       "      <td>-0.244475</td>\n",
       "      <td>1.443802</td>\n",
       "      <td>0.442734</td>\n",
       "      <td>-0.612402</td>\n",
       "      <td>2.025792</td>\n",
       "      <td>-0.332752</td>\n",
       "      <td>0.232354</td>\n",
       "      <td>-4.882080</td>\n",
       "      <td>0.0</td>\n",
       "    </tr>\n",
       "    <tr>\n",
       "      <th>2279</th>\n",
       "      <td>0.897385</td>\n",
       "      <td>-0.670466</td>\n",
       "      <td>-0.684797</td>\n",
       "      <td>-0.661647</td>\n",
       "      <td>-0.374832</td>\n",
       "      <td>2.277733</td>\n",
       "      <td>0.712536</td>\n",
       "      <td>-0.894451</td>\n",
       "      <td>0.690536</td>\n",
       "      <td>1.825668</td>\n",
       "      <td>0.756288</td>\n",
       "      <td>-0.548529</td>\n",
       "      <td>-0.748523</td>\n",
       "      <td>-0.181523</td>\n",
       "      <td>-0.472224</td>\n",
       "      <td>-5.912551</td>\n",
       "      <td>0.0</td>\n",
       "    </tr>\n",
       "  </tbody>\n",
       "</table>\n",
       "<p>2280 rows × 17 columns</p>\n",
       "</div>"
      ],
      "text/plain": [
       "       BALANCE  BALANCE_FREQUENCY  PURCHASES  ONEOFF_PURCHASES  \\\n",
       "0    -0.072387          -0.196912  -0.791944         -0.661647   \n",
       "1    -0.320465           0.371350  -0.405821         -0.145581   \n",
       "2    -0.611037          -1.901695  -0.043339          0.338887   \n",
       "3    -0.975590           0.371350   2.749324          3.611900   \n",
       "4    -1.142199          -2.469957  -0.151910          0.193779   \n",
       "...        ...                ...        ...               ...   \n",
       "2275 -1.154700          -0.765173  -0.269998         -0.510039   \n",
       "2276 -0.288865          -0.196912  -0.623146         -0.661647   \n",
       "2277 -0.025885          -1.503914  -0.791944         -0.661647   \n",
       "2278 -0.378310           0.371350  -0.132732         -0.661647   \n",
       "2279  0.897385          -0.670466  -0.684797         -0.661647   \n",
       "\n",
       "      INSTALLMENTS_PURCHASES  CASH_ADVANCE  PURCHASES_FREQUENCY  \\\n",
       "0                  -0.586316      1.529178            -1.308668   \n",
       "1                  -0.586316     -0.753892             1.116778   \n",
       "2                  -0.586316     -0.680971            -1.106549   \n",
       "3                   0.092226     -0.753892             1.116778   \n",
       "4                  -0.586316     -0.753892            -0.904426   \n",
       "...                      ...           ...                  ...   \n",
       "2275                0.219994     -0.753892             0.455293   \n",
       "2276               -0.253146     -0.753892             0.014303   \n",
       "2277               -0.586316      1.309664            -1.308668   \n",
       "2278                0.714820      4.535444            -0.269192   \n",
       "2279               -0.374832      2.277733             0.712536   \n",
       "\n",
       "      ONEOFF_PURCHASES_FREQUENCY  PURCHASES_INSTALLMENTS_FREQUENCY  \\\n",
       "0                      -0.894451                         -0.945731   \n",
       "1                       1.925480                         -0.945731   \n",
       "2                      -0.659458                         -0.945731   \n",
       "3                       1.925480                          1.508668   \n",
       "4                      -0.424462                         -0.945731   \n",
       "...                          ...                               ...   \n",
       "2275                   -0.381737                          0.393033   \n",
       "2276                   -0.894451                          0.169904   \n",
       "2277                   -0.894451                         -0.945731   \n",
       "2278                   -0.894451                         -0.244475   \n",
       "2279                   -0.894451                          0.690536   \n",
       "\n",
       "      CASH_ADVANCE_FREQUENCY  CASH_ADVANCE_TRX  PURCHASES_TRX  PAYMENTS  \\\n",
       "0                   0.155001         -0.184373      -0.708213  0.461600   \n",
       "1                  -0.847399         -0.602445      -0.324971 -0.881284   \n",
       "2                  -0.513267         -0.497927      -0.676276 -1.121264   \n",
       "3                  -0.847399         -0.602445       1.335743  1.330097   \n",
       "4                  -0.847399         -0.602445      -0.612402 -0.671920   \n",
       "...                      ...               ...            ...       ...   \n",
       "2275               -0.847399         -0.602445      -0.165287 -0.635801   \n",
       "2276               -0.847399         -0.602445      -0.516592 -0.787073   \n",
       "2277                0.355480         -0.288891      -0.708213 -0.761961   \n",
       "2278                1.443802          0.442734      -0.612402  2.025792   \n",
       "2279                1.825668          0.756288      -0.548529 -0.748523   \n",
       "\n",
       "      MINIMUM_PAYMENTS  PRC_FULL_PAYMENT    TENURE  cluster  \n",
       "0            -0.126532          0.310639  0.270273      0.0  \n",
       "1            -0.242859         -0.472224  0.270273      0.0  \n",
       "2            -0.406817         -0.472224  0.270273      0.0  \n",
       "3            -0.355047          3.050666  0.270273      0.0  \n",
       "4            -0.380600         -0.472224  0.270273      0.0  \n",
       "...                ...               ...       ...      ...  \n",
       "2275         -0.369148          0.702071 -0.760198      0.0  \n",
       "2276         -0.203857         -0.472224 -0.760198      0.0  \n",
       "2277         -0.143614         -0.472224 -1.790669      0.0  \n",
       "2278         -0.332752          0.232354 -4.882080      0.0  \n",
       "2279         -0.181523         -0.472224 -5.912551      0.0  \n",
       "\n",
       "[2280 rows x 17 columns]"
      ]
     },
     "execution_count": 189,
     "metadata": {},
     "output_type": "execute_result"
    }
   ],
   "source": [
    "scaler = StandardScaler()\n",
    "scaler.fit(credit_features)\n",
    "feature_normalized = scaler.transform(credit_features)\n",
    "df_features = pd.DataFrame(feature_normalized, columns = credit_features.columns)\n",
    "df_features"
   ]
  },
  {
   "cell_type": "code",
   "execution_count": 229,
   "metadata": {},
   "outputs": [
    {
     "data": {
      "text/plain": [
       "((1824, 17), (456, 17), (1824, 1), (456, 1))"
      ]
     },
     "execution_count": 229,
     "metadata": {},
     "output_type": "execute_result"
    }
   ],
   "source": [
    "X = credit_features\n",
    "y = credit_target\n",
    "X_train, X_test, y_train, y_test = train_test_split(X, y, test_size = 0.2, random_state = 42)\n",
    "X_train.shape, X_test.shape, y_train.shape, y_test.shape"
   ]
  },
  {
   "cell_type": "code",
   "execution_count": 230,
   "metadata": {},
   "outputs": [
    {
     "name": "stdout",
     "output_type": "stream",
     "text": [
      "LinearRegression\n"
     ]
    },
    {
     "data": {
      "text/plain": [
       "[('CREDIT_LIMIT', array([10178.02440497]))]"
      ]
     },
     "execution_count": 230,
     "metadata": {},
     "output_type": "execute_result"
    }
   ],
   "source": [
    "model = LinearRegression()\n",
    "model.fit(X_train, y_train)\n",
    "y_pred = model.predict(X_test)\n",
    "print('LinearRegression')\n",
    "\n",
    "list(zip(y_test[:5], y_pred[:5]))"
   ]
  },
  {
   "cell_type": "code",
   "execution_count": 231,
   "metadata": {},
   "outputs": [
    {
     "name": "stdout",
     "output_type": "stream",
     "text": [
      "Coefficients: \n",
      " [[ 6.13512312e-01 -4.96600333e+03  4.75351271e+00 -4.76241392e+00\n",
      "  -4.68917092e+00  6.83215263e-03  5.43819921e+02  7.78873517e+02\n",
      "   2.95287256e+01 -2.24022140e+03 -1.12285172e+01 -1.23673286e+01\n",
      "  -5.48887159e-02 -1.59276654e-01  2.81520640e+03  8.04896467e+01\n",
      "   0.00000000e+00]]\n",
      "Mean squared error: 8537581.61\n",
      "Mean absolut error: 2257.27\n",
      "Coefficient of determination: 0.14\n",
      "Fórmula: y = [10901.99376224] [ 6.13512312e-01 -4.96600333e+03  4.75351271e+00 -4.76241392e+00\n",
      " -4.68917092e+00  6.83215263e-03  5.43819921e+02  7.78873517e+02\n",
      "  2.95287256e+01 -2.24022140e+03 -1.12285172e+01 -1.23673286e+01\n",
      " -5.48887159e-02 -1.59276654e-01  2.81520640e+03  8.04896467e+01\n",
      "  0.00000000e+00] x\n"
     ]
    }
   ],
   "source": [
    "print('Coefficients: \\n', model.coef_)\n",
    "# The mean squared error\n",
    "print('Mean squared error: %.2f'\n",
    "      % mean_squared_error(y_test, y_pred))\n",
    "# The mean absolut error\n",
    "print('Mean absolut error: %.2f'\n",
    "      % mean_absolute_error(y_test, y_pred))\n",
    "# The coefficient of determination: 1 is perfect prediction\n",
    "print('Coefficient of determination: %.2f'\n",
    "      % r2_score(y_test, y_pred))\n",
    "\n",
    "print(\"Fórmula: y = {} {} x\".format(model.intercept_,model.coef_[0]))"
   ]
  },
  {
   "cell_type": "markdown",
   "metadata": {},
   "source": [
    "### Grupo 1 "
   ]
  },
  {
   "cell_type": "code",
   "execution_count": 240,
   "metadata": {},
   "outputs": [],
   "source": [
    "credit_df_1 = credit_df[credit_df['cluster'] == '1']"
   ]
  },
  {
   "cell_type": "code",
   "execution_count": 242,
   "metadata": {},
   "outputs": [],
   "source": [
    "credit_features = credit_df_1.drop(columns=['CREDIT_LIMIT'])\n",
    "credit_target = credit_df_1['CREDIT_LIMIT'].reset_index().drop(columns=['index'])"
   ]
  },
  {
   "cell_type": "code",
   "execution_count": 243,
   "metadata": {},
   "outputs": [
    {
     "data": {
      "text/html": [
       "<div>\n",
       "<style scoped>\n",
       "    .dataframe tbody tr th:only-of-type {\n",
       "        vertical-align: middle;\n",
       "    }\n",
       "\n",
       "    .dataframe tbody tr th {\n",
       "        vertical-align: top;\n",
       "    }\n",
       "\n",
       "    .dataframe thead th {\n",
       "        text-align: right;\n",
       "    }\n",
       "</style>\n",
       "<table border=\"1\" class=\"dataframe\">\n",
       "  <thead>\n",
       "    <tr style=\"text-align: right;\">\n",
       "      <th></th>\n",
       "      <th>BALANCE</th>\n",
       "      <th>BALANCE_FREQUENCY</th>\n",
       "      <th>PURCHASES</th>\n",
       "      <th>ONEOFF_PURCHASES</th>\n",
       "      <th>INSTALLMENTS_PURCHASES</th>\n",
       "      <th>CASH_ADVANCE</th>\n",
       "      <th>PURCHASES_FREQUENCY</th>\n",
       "      <th>ONEOFF_PURCHASES_FREQUENCY</th>\n",
       "      <th>PURCHASES_INSTALLMENTS_FREQUENCY</th>\n",
       "      <th>CASH_ADVANCE_FREQUENCY</th>\n",
       "      <th>CASH_ADVANCE_TRX</th>\n",
       "      <th>PURCHASES_TRX</th>\n",
       "      <th>PAYMENTS</th>\n",
       "      <th>MINIMUM_PAYMENTS</th>\n",
       "      <th>PRC_FULL_PAYMENT</th>\n",
       "      <th>TENURE</th>\n",
       "      <th>cluster</th>\n",
       "    </tr>\n",
       "  </thead>\n",
       "  <tbody>\n",
       "    <tr>\n",
       "      <th>0</th>\n",
       "      <td>-0.870156</td>\n",
       "      <td>-0.142469</td>\n",
       "      <td>-0.592584</td>\n",
       "      <td>-0.485926</td>\n",
       "      <td>-0.398449</td>\n",
       "      <td>-0.540627</td>\n",
       "      <td>-0.763454</td>\n",
       "      <td>-0.606879</td>\n",
       "      <td>-0.686604</td>\n",
       "      <td>-0.635208</td>\n",
       "      <td>-0.480117</td>\n",
       "      <td>-0.573690</td>\n",
       "      <td>-0.703888</td>\n",
       "      <td>-0.308106</td>\n",
       "      <td>-0.537039</td>\n",
       "      <td>0.392103</td>\n",
       "      <td>0.0</td>\n",
       "    </tr>\n",
       "    <tr>\n",
       "      <th>1</th>\n",
       "      <td>-0.041209</td>\n",
       "      <td>0.570382</td>\n",
       "      <td>-0.684808</td>\n",
       "      <td>-0.461143</td>\n",
       "      <td>-0.591627</td>\n",
       "      <td>-0.540627</td>\n",
       "      <td>-0.974597</td>\n",
       "      <td>-0.279686</td>\n",
       "      <td>-0.899259</td>\n",
       "      <td>-0.635208</td>\n",
       "      <td>-0.480117</td>\n",
       "      <td>-0.639738</td>\n",
       "      <td>-0.282818</td>\n",
       "      <td>-0.228859</td>\n",
       "      <td>-0.537039</td>\n",
       "      <td>0.392103</td>\n",
       "      <td>0.0</td>\n",
       "    </tr>\n",
       "    <tr>\n",
       "      <th>2</th>\n",
       "      <td>1.017488</td>\n",
       "      <td>0.570382</td>\n",
       "      <td>0.845239</td>\n",
       "      <td>-0.485926</td>\n",
       "      <td>2.108174</td>\n",
       "      <td>-0.540627</td>\n",
       "      <td>0.503394</td>\n",
       "      <td>-0.606879</td>\n",
       "      <td>0.589330</td>\n",
       "      <td>-0.635208</td>\n",
       "      <td>-0.480117</td>\n",
       "      <td>-0.177408</td>\n",
       "      <td>0.354906</td>\n",
       "      <td>1.398852</td>\n",
       "      <td>-0.537039</td>\n",
       "      <td>0.392103</td>\n",
       "      <td>0.0</td>\n",
       "    </tr>\n",
       "    <tr>\n",
       "      <th>3</th>\n",
       "      <td>1.032240</td>\n",
       "      <td>0.570382</td>\n",
       "      <td>-0.196738</td>\n",
       "      <td>-0.485926</td>\n",
       "      <td>0.291648</td>\n",
       "      <td>-0.540627</td>\n",
       "      <td>1.347959</td>\n",
       "      <td>-0.606879</td>\n",
       "      <td>1.652609</td>\n",
       "      <td>-0.635208</td>\n",
       "      <td>-0.480117</td>\n",
       "      <td>0.086780</td>\n",
       "      <td>-0.282172</td>\n",
       "      <td>-0.012647</td>\n",
       "      <td>-0.537039</td>\n",
       "      <td>0.392103</td>\n",
       "      <td>0.0</td>\n",
       "    </tr>\n",
       "    <tr>\n",
       "      <th>4</th>\n",
       "      <td>0.169238</td>\n",
       "      <td>0.570382</td>\n",
       "      <td>0.297245</td>\n",
       "      <td>0.538713</td>\n",
       "      <td>-0.186641</td>\n",
       "      <td>-0.540627</td>\n",
       "      <td>-0.341173</td>\n",
       "      <td>-0.279686</td>\n",
       "      <td>-0.261292</td>\n",
       "      <td>-0.635208</td>\n",
       "      <td>-0.480117</td>\n",
       "      <td>-0.375549</td>\n",
       "      <td>-0.274031</td>\n",
       "      <td>-0.178298</td>\n",
       "      <td>-0.537039</td>\n",
       "      <td>0.392103</td>\n",
       "      <td>0.0</td>\n",
       "    </tr>\n",
       "    <tr>\n",
       "      <th>...</th>\n",
       "      <td>...</td>\n",
       "      <td>...</td>\n",
       "      <td>...</td>\n",
       "      <td>...</td>\n",
       "      <td>...</td>\n",
       "      <td>...</td>\n",
       "      <td>...</td>\n",
       "      <td>...</td>\n",
       "      <td>...</td>\n",
       "      <td>...</td>\n",
       "      <td>...</td>\n",
       "      <td>...</td>\n",
       "      <td>...</td>\n",
       "      <td>...</td>\n",
       "      <td>...</td>\n",
       "      <td>...</td>\n",
       "      <td>...</td>\n",
       "    </tr>\n",
       "    <tr>\n",
       "      <th>6535</th>\n",
       "      <td>-0.883396</td>\n",
       "      <td>0.570382</td>\n",
       "      <td>-0.365251</td>\n",
       "      <td>-0.485926</td>\n",
       "      <td>-0.002129</td>\n",
       "      <td>-0.540627</td>\n",
       "      <td>1.347959</td>\n",
       "      <td>-0.606879</td>\n",
       "      <td>1.227297</td>\n",
       "      <td>-0.635208</td>\n",
       "      <td>-0.480117</td>\n",
       "      <td>-0.309502</td>\n",
       "      <td>-0.594503</td>\n",
       "      <td>-0.376320</td>\n",
       "      <td>1.173504</td>\n",
       "      <td>-3.765186</td>\n",
       "      <td>0.0</td>\n",
       "    </tr>\n",
       "    <tr>\n",
       "      <th>6536</th>\n",
       "      <td>-0.893331</td>\n",
       "      <td>0.570382</td>\n",
       "      <td>-0.354937</td>\n",
       "      <td>-0.485926</td>\n",
       "      <td>0.015852</td>\n",
       "      <td>-0.540627</td>\n",
       "      <td>1.347959</td>\n",
       "      <td>-0.606879</td>\n",
       "      <td>1.227297</td>\n",
       "      <td>-0.635208</td>\n",
       "      <td>-0.480117</td>\n",
       "      <td>-0.309502</td>\n",
       "      <td>-0.638448</td>\n",
       "      <td>-0.413117</td>\n",
       "      <td>-0.537039</td>\n",
       "      <td>-3.765186</td>\n",
       "      <td>0.0</td>\n",
       "    </tr>\n",
       "    <tr>\n",
       "      <th>6537</th>\n",
       "      <td>-0.888833</td>\n",
       "      <td>-0.083067</td>\n",
       "      <td>-0.535669</td>\n",
       "      <td>-0.485926</td>\n",
       "      <td>-0.299227</td>\n",
       "      <td>-0.540627</td>\n",
       "      <td>0.925676</td>\n",
       "      <td>-0.606879</td>\n",
       "      <td>0.801987</td>\n",
       "      <td>-0.635208</td>\n",
       "      <td>-0.480117</td>\n",
       "      <td>-0.375549</td>\n",
       "      <td>-0.810391</td>\n",
       "      <td>-0.351080</td>\n",
       "      <td>0.318233</td>\n",
       "      <td>-3.765186</td>\n",
       "      <td>0.0</td>\n",
       "    </tr>\n",
       "    <tr>\n",
       "      <th>6538</th>\n",
       "      <td>-0.899441</td>\n",
       "      <td>-0.083067</td>\n",
       "      <td>-0.703393</td>\n",
       "      <td>-0.485926</td>\n",
       "      <td>-0.591627</td>\n",
       "      <td>-0.500736</td>\n",
       "      <td>-1.185738</td>\n",
       "      <td>-0.606879</td>\n",
       "      <td>-0.899259</td>\n",
       "      <td>0.356412</td>\n",
       "      <td>-0.054041</td>\n",
       "      <td>-0.705785</td>\n",
       "      <td>-0.835769</td>\n",
       "      <td>-0.371149</td>\n",
       "      <td>0.318233</td>\n",
       "      <td>-3.765186</td>\n",
       "      <td>0.0</td>\n",
       "    </tr>\n",
       "    <tr>\n",
       "      <th>6539</th>\n",
       "      <td>-0.516081</td>\n",
       "      <td>-0.736512</td>\n",
       "      <td>0.566439</td>\n",
       "      <td>1.207504</td>\n",
       "      <td>-0.591627</td>\n",
       "      <td>-0.402007</td>\n",
       "      <td>0.503394</td>\n",
       "      <td>2.010673</td>\n",
       "      <td>-0.899259</td>\n",
       "      <td>1.348027</td>\n",
       "      <td>-0.054041</td>\n",
       "      <td>0.813298</td>\n",
       "      <td>-0.826389</td>\n",
       "      <td>-0.346661</td>\n",
       "      <td>-0.537039</td>\n",
       "      <td>-3.765186</td>\n",
       "      <td>0.0</td>\n",
       "    </tr>\n",
       "  </tbody>\n",
       "</table>\n",
       "<p>6540 rows × 17 columns</p>\n",
       "</div>"
      ],
      "text/plain": [
       "       BALANCE  BALANCE_FREQUENCY  PURCHASES  ONEOFF_PURCHASES  \\\n",
       "0    -0.870156          -0.142469  -0.592584         -0.485926   \n",
       "1    -0.041209           0.570382  -0.684808         -0.461143   \n",
       "2     1.017488           0.570382   0.845239         -0.485926   \n",
       "3     1.032240           0.570382  -0.196738         -0.485926   \n",
       "4     0.169238           0.570382   0.297245          0.538713   \n",
       "...        ...                ...        ...               ...   \n",
       "6535 -0.883396           0.570382  -0.365251         -0.485926   \n",
       "6536 -0.893331           0.570382  -0.354937         -0.485926   \n",
       "6537 -0.888833          -0.083067  -0.535669         -0.485926   \n",
       "6538 -0.899441          -0.083067  -0.703393         -0.485926   \n",
       "6539 -0.516081          -0.736512   0.566439          1.207504   \n",
       "\n",
       "      INSTALLMENTS_PURCHASES  CASH_ADVANCE  PURCHASES_FREQUENCY  \\\n",
       "0                  -0.398449     -0.540627            -0.763454   \n",
       "1                  -0.591627     -0.540627            -0.974597   \n",
       "2                   2.108174     -0.540627             0.503394   \n",
       "3                   0.291648     -0.540627             1.347959   \n",
       "4                  -0.186641     -0.540627            -0.341173   \n",
       "...                      ...           ...                  ...   \n",
       "6535               -0.002129     -0.540627             1.347959   \n",
       "6536                0.015852     -0.540627             1.347959   \n",
       "6537               -0.299227     -0.540627             0.925676   \n",
       "6538               -0.591627     -0.500736            -1.185738   \n",
       "6539               -0.591627     -0.402007             0.503394   \n",
       "\n",
       "      ONEOFF_PURCHASES_FREQUENCY  PURCHASES_INSTALLMENTS_FREQUENCY  \\\n",
       "0                      -0.606879                         -0.686604   \n",
       "1                      -0.279686                         -0.899259   \n",
       "2                      -0.606879                          0.589330   \n",
       "3                      -0.606879                          1.652609   \n",
       "4                      -0.279686                         -0.261292   \n",
       "...                          ...                               ...   \n",
       "6535                   -0.606879                          1.227297   \n",
       "6536                   -0.606879                          1.227297   \n",
       "6537                   -0.606879                          0.801987   \n",
       "6538                   -0.606879                         -0.899259   \n",
       "6539                    2.010673                         -0.899259   \n",
       "\n",
       "      CASH_ADVANCE_FREQUENCY  CASH_ADVANCE_TRX  PURCHASES_TRX  PAYMENTS  \\\n",
       "0                  -0.635208         -0.480117      -0.573690 -0.703888   \n",
       "1                  -0.635208         -0.480117      -0.639738 -0.282818   \n",
       "2                  -0.635208         -0.480117      -0.177408  0.354906   \n",
       "3                  -0.635208         -0.480117       0.086780 -0.282172   \n",
       "4                  -0.635208         -0.480117      -0.375549 -0.274031   \n",
       "...                      ...               ...            ...       ...   \n",
       "6535               -0.635208         -0.480117      -0.309502 -0.594503   \n",
       "6536               -0.635208         -0.480117      -0.309502 -0.638448   \n",
       "6537               -0.635208         -0.480117      -0.375549 -0.810391   \n",
       "6538                0.356412         -0.054041      -0.705785 -0.835769   \n",
       "6539                1.348027         -0.054041       0.813298 -0.826389   \n",
       "\n",
       "      MINIMUM_PAYMENTS  PRC_FULL_PAYMENT    TENURE  cluster  \n",
       "0            -0.308106         -0.537039  0.392103      0.0  \n",
       "1            -0.228859         -0.537039  0.392103      0.0  \n",
       "2             1.398852         -0.537039  0.392103      0.0  \n",
       "3            -0.012647         -0.537039  0.392103      0.0  \n",
       "4            -0.178298         -0.537039  0.392103      0.0  \n",
       "...                ...               ...       ...      ...  \n",
       "6535         -0.376320          1.173504 -3.765186      0.0  \n",
       "6536         -0.413117         -0.537039 -3.765186      0.0  \n",
       "6537         -0.351080          0.318233 -3.765186      0.0  \n",
       "6538         -0.371149          0.318233 -3.765186      0.0  \n",
       "6539         -0.346661         -0.537039 -3.765186      0.0  \n",
       "\n",
       "[6540 rows x 17 columns]"
      ]
     },
     "execution_count": 243,
     "metadata": {},
     "output_type": "execute_result"
    }
   ],
   "source": [
    "scaler = StandardScaler()\n",
    "scaler.fit(credit_features)\n",
    "feature_normalized = scaler.transform(credit_features)\n",
    "df_features = pd.DataFrame(feature_normalized, columns = credit_features.columns)\n",
    "df_features"
   ]
  },
  {
   "cell_type": "code",
   "execution_count": 244,
   "metadata": {},
   "outputs": [
    {
     "data": {
      "text/plain": [
       "((5232, 17), (1308, 17), (5232, 1), (1308, 1))"
      ]
     },
     "execution_count": 244,
     "metadata": {},
     "output_type": "execute_result"
    }
   ],
   "source": [
    "X = credit_features\n",
    "y = credit_target\n",
    "X_train, X_test, y_train, y_test = train_test_split(X, y, test_size = 0.2, random_state = 42)\n",
    "X_train.shape, X_test.shape, y_train.shape, y_test.shape"
   ]
  },
  {
   "cell_type": "code",
   "execution_count": 245,
   "metadata": {},
   "outputs": [
    {
     "name": "stdout",
     "output_type": "stream",
     "text": [
      "LinearRegression\n"
     ]
    },
    {
     "data": {
      "text/plain": [
       "[('CREDIT_LIMIT', array([3153.31391113]))]"
      ]
     },
     "execution_count": 245,
     "metadata": {},
     "output_type": "execute_result"
    }
   ],
   "source": [
    "model = LinearRegression()\n",
    "model.fit(X_train, y_train)\n",
    "y_pred = model.predict(X_test)\n",
    "print('LinearRegression')\n",
    "\n",
    "list(zip(y_test[:5], y_pred[:5]))"
   ]
  },
  {
   "cell_type": "code",
   "execution_count": 246,
   "metadata": {},
   "outputs": [
    {
     "name": "stdout",
     "output_type": "stream",
     "text": [
      "Coefficients: \n",
      " [[ 5.16085582e-01 -1.07028790e+03 -3.03376569e+00  3.07729566e+00\n",
      "   3.47094769e+00  3.04555164e-01  2.63059229e+01  1.31897255e+03\n",
      "  -9.06509473e+01 -1.20975361e+03 -5.23509098e+00 -2.11870234e+00\n",
      "  -9.43894004e-02 -1.67307225e-01  8.54903373e+02  1.81148898e+02\n",
      "   0.00000000e+00]]\n",
      "Mean squared error: 2373820.15\n",
      "Mean absolut error: 1192.61\n",
      "Coefficient of determination: 0.13\n",
      "Fórmula: y = [890.96383405] [ 5.16085582e-01 -1.07028790e+03 -3.03376569e+00  3.07729566e+00\n",
      "  3.47094769e+00  3.04555164e-01  2.63059229e+01  1.31897255e+03\n",
      " -9.06509473e+01 -1.20975361e+03 -5.23509098e+00 -2.11870234e+00\n",
      " -9.43894004e-02 -1.67307225e-01  8.54903373e+02  1.81148898e+02\n",
      "  0.00000000e+00] x\n"
     ]
    }
   ],
   "source": [
    "print('Coefficients: \\n', model.coef_)\n",
    "# The mean squared error\n",
    "print('Mean squared error: %.2f'\n",
    "      % mean_squared_error(y_test, y_pred))\n",
    "# The mean absolut error\n",
    "print('Mean absolut error: %.2f'\n",
    "      % mean_absolute_error(y_test, y_pred))\n",
    "# The coefficient of determination: 1 is perfect prediction\n",
    "print('Coefficient of determination: %.2f'\n",
    "      % r2_score(y_test, y_pred))\n",
    "\n",
    "print(\"Fórmula: y = {} {} x\".format(model.intercept_,model.coef_[0]))"
   ]
  },
  {
   "cell_type": "markdown",
   "metadata": {},
   "source": [
    "### Grupo 2 "
   ]
  },
  {
   "cell_type": "code",
   "execution_count": 251,
   "metadata": {},
   "outputs": [],
   "source": [
    "credit_df_2 = credit_df[credit_df['cluster'] == '2']"
   ]
  },
  {
   "cell_type": "code",
   "execution_count": 252,
   "metadata": {},
   "outputs": [],
   "source": [
    "credit_features = credit_df_2.drop(columns=['CREDIT_LIMIT'])\n",
    "credit_target = credit_df_2['CREDIT_LIMIT'].reset_index().drop(columns=['index'])"
   ]
  },
  {
   "cell_type": "code",
   "execution_count": 253,
   "metadata": {},
   "outputs": [
    {
     "data": {
      "text/html": [
       "<div>\n",
       "<style scoped>\n",
       "    .dataframe tbody tr th:only-of-type {\n",
       "        vertical-align: middle;\n",
       "    }\n",
       "\n",
       "    .dataframe tbody tr th {\n",
       "        vertical-align: top;\n",
       "    }\n",
       "\n",
       "    .dataframe thead th {\n",
       "        text-align: right;\n",
       "    }\n",
       "</style>\n",
       "<table border=\"1\" class=\"dataframe\">\n",
       "  <thead>\n",
       "    <tr style=\"text-align: right;\">\n",
       "      <th></th>\n",
       "      <th>BALANCE</th>\n",
       "      <th>BALANCE_FREQUENCY</th>\n",
       "      <th>PURCHASES</th>\n",
       "      <th>ONEOFF_PURCHASES</th>\n",
       "      <th>INSTALLMENTS_PURCHASES</th>\n",
       "      <th>CASH_ADVANCE</th>\n",
       "      <th>PURCHASES_FREQUENCY</th>\n",
       "      <th>ONEOFF_PURCHASES_FREQUENCY</th>\n",
       "      <th>PURCHASES_INSTALLMENTS_FREQUENCY</th>\n",
       "      <th>CASH_ADVANCE_FREQUENCY</th>\n",
       "      <th>CASH_ADVANCE_TRX</th>\n",
       "      <th>PURCHASES_TRX</th>\n",
       "      <th>PAYMENTS</th>\n",
       "      <th>MINIMUM_PAYMENTS</th>\n",
       "      <th>PRC_FULL_PAYMENT</th>\n",
       "      <th>TENURE</th>\n",
       "      <th>cluster</th>\n",
       "    </tr>\n",
       "  </thead>\n",
       "  <tbody>\n",
       "    <tr>\n",
       "      <th>0</th>\n",
       "      <td>-0.860898</td>\n",
       "      <td>-2.168635</td>\n",
       "      <td>-0.997805</td>\n",
       "      <td>-0.777742</td>\n",
       "      <td>-0.767338</td>\n",
       "      <td>0.123404</td>\n",
       "      <td>-1.816752</td>\n",
       "      <td>-1.314825</td>\n",
       "      <td>-1.487644</td>\n",
       "      <td>0.348128</td>\n",
       "      <td>-0.185980</td>\n",
       "      <td>-0.965163</td>\n",
       "      <td>0.225687</td>\n",
       "      <td>-0.476564</td>\n",
       "      <td>-0.003072</td>\n",
       "      <td>0.194570</td>\n",
       "      <td>0.0</td>\n",
       "    </tr>\n",
       "    <tr>\n",
       "      <th>1</th>\n",
       "      <td>-0.464663</td>\n",
       "      <td>-0.010262</td>\n",
       "      <td>-0.636295</td>\n",
       "      <td>-0.695854</td>\n",
       "      <td>-0.075192</td>\n",
       "      <td>2.675276</td>\n",
       "      <td>-0.232742</td>\n",
       "      <td>-0.253528</td>\n",
       "      <td>-0.051194</td>\n",
       "      <td>1.978048</td>\n",
       "      <td>1.034513</td>\n",
       "      <td>-0.640233</td>\n",
       "      <td>1.168525</td>\n",
       "      <td>-0.373416</td>\n",
       "      <td>0.323258</td>\n",
       "      <td>0.194570</td>\n",
       "      <td>0.0</td>\n",
       "    </tr>\n",
       "    <tr>\n",
       "      <th>2</th>\n",
       "      <td>-0.614618</td>\n",
       "      <td>0.421412</td>\n",
       "      <td>0.169901</td>\n",
       "      <td>0.565830</td>\n",
       "      <td>-0.767338</td>\n",
       "      <td>-0.622446</td>\n",
       "      <td>0.446118</td>\n",
       "      <td>0.807769</td>\n",
       "      <td>-1.487644</td>\n",
       "      <td>-0.738484</td>\n",
       "      <td>-0.534692</td>\n",
       "      <td>1.574106</td>\n",
       "      <td>-0.749583</td>\n",
       "      <td>-0.135199</td>\n",
       "      <td>-0.900480</td>\n",
       "      <td>0.194570</td>\n",
       "      <td>0.0</td>\n",
       "    </tr>\n",
       "    <tr>\n",
       "      <th>3</th>\n",
       "      <td>3.564079</td>\n",
       "      <td>0.421412</td>\n",
       "      <td>1.139417</td>\n",
       "      <td>0.213746</td>\n",
       "      <td>2.273372</td>\n",
       "      <td>-0.622446</td>\n",
       "      <td>0.672404</td>\n",
       "      <td>0.383250</td>\n",
       "      <td>0.974843</td>\n",
       "      <td>-0.738484</td>\n",
       "      <td>-0.534692</td>\n",
       "      <td>1.562071</td>\n",
       "      <td>0.566185</td>\n",
       "      <td>4.293607</td>\n",
       "      <td>-0.900480</td>\n",
       "      <td>0.194570</td>\n",
       "      <td>0.0</td>\n",
       "    </tr>\n",
       "    <tr>\n",
       "      <th>4</th>\n",
       "      <td>2.216358</td>\n",
       "      <td>0.421412</td>\n",
       "      <td>-0.101250</td>\n",
       "      <td>-0.427621</td>\n",
       "      <td>0.644565</td>\n",
       "      <td>-0.327130</td>\n",
       "      <td>0.672404</td>\n",
       "      <td>0.383250</td>\n",
       "      <td>0.974843</td>\n",
       "      <td>1.706395</td>\n",
       "      <td>0.976394</td>\n",
       "      <td>1.562071</td>\n",
       "      <td>-0.739348</td>\n",
       "      <td>0.941730</td>\n",
       "      <td>-0.900480</td>\n",
       "      <td>0.194570</td>\n",
       "      <td>0.0</td>\n",
       "    </tr>\n",
       "    <tr>\n",
       "      <th>...</th>\n",
       "      <td>...</td>\n",
       "      <td>...</td>\n",
       "      <td>...</td>\n",
       "      <td>...</td>\n",
       "      <td>...</td>\n",
       "      <td>...</td>\n",
       "      <td>...</td>\n",
       "      <td>...</td>\n",
       "      <td>...</td>\n",
       "      <td>...</td>\n",
       "      <td>...</td>\n",
       "      <td>...</td>\n",
       "      <td>...</td>\n",
       "      <td>...</td>\n",
       "      <td>...</td>\n",
       "      <td>...</td>\n",
       "      <td>...</td>\n",
       "    </tr>\n",
       "    <tr>\n",
       "      <th>125</th>\n",
       "      <td>-0.078224</td>\n",
       "      <td>0.421412</td>\n",
       "      <td>-0.917845</td>\n",
       "      <td>-0.815138</td>\n",
       "      <td>-0.499241</td>\n",
       "      <td>2.551108</td>\n",
       "      <td>0.672404</td>\n",
       "      <td>-0.678047</td>\n",
       "      <td>0.974843</td>\n",
       "      <td>1.163088</td>\n",
       "      <td>0.046495</td>\n",
       "      <td>-0.604129</td>\n",
       "      <td>0.818637</td>\n",
       "      <td>-0.304176</td>\n",
       "      <td>-0.227423</td>\n",
       "      <td>0.194570</td>\n",
       "      <td>0.0</td>\n",
       "    </tr>\n",
       "    <tr>\n",
       "      <th>126</th>\n",
       "      <td>-1.074373</td>\n",
       "      <td>0.421412</td>\n",
       "      <td>0.079988</td>\n",
       "      <td>0.392037</td>\n",
       "      <td>-0.621606</td>\n",
       "      <td>-0.516666</td>\n",
       "      <td>0.672404</td>\n",
       "      <td>1.020027</td>\n",
       "      <td>-0.256400</td>\n",
       "      <td>0.076475</td>\n",
       "      <td>-0.185980</td>\n",
       "      <td>0.129972</td>\n",
       "      <td>-0.689536</td>\n",
       "      <td>-0.618204</td>\n",
       "      <td>0.894338</td>\n",
       "      <td>0.194570</td>\n",
       "      <td>0.0</td>\n",
       "    </tr>\n",
       "    <tr>\n",
       "      <th>127</th>\n",
       "      <td>-1.205887</td>\n",
       "      <td>-3.463656</td>\n",
       "      <td>-1.095619</td>\n",
       "      <td>-0.890287</td>\n",
       "      <td>-0.767338</td>\n",
       "      <td>-0.107534</td>\n",
       "      <td>-2.043037</td>\n",
       "      <td>-1.527083</td>\n",
       "      <td>-1.487644</td>\n",
       "      <td>-0.195177</td>\n",
       "      <td>-0.418455</td>\n",
       "      <td>-1.037369</td>\n",
       "      <td>0.460010</td>\n",
       "      <td>-0.622246</td>\n",
       "      <td>-0.900480</td>\n",
       "      <td>0.194570</td>\n",
       "      <td>0.0</td>\n",
       "    </tr>\n",
       "    <tr>\n",
       "      <th>128</th>\n",
       "      <td>-0.708864</td>\n",
       "      <td>0.421412</td>\n",
       "      <td>0.125417</td>\n",
       "      <td>0.421141</td>\n",
       "      <td>-0.573610</td>\n",
       "      <td>-0.622446</td>\n",
       "      <td>0.672404</td>\n",
       "      <td>1.020027</td>\n",
       "      <td>-0.256400</td>\n",
       "      <td>-0.738484</td>\n",
       "      <td>-0.534692</td>\n",
       "      <td>0.563212</td>\n",
       "      <td>-0.762558</td>\n",
       "      <td>-0.520078</td>\n",
       "      <td>-0.003072</td>\n",
       "      <td>0.194570</td>\n",
       "      <td>0.0</td>\n",
       "    </tr>\n",
       "    <tr>\n",
       "      <th>129</th>\n",
       "      <td>0.561990</td>\n",
       "      <td>0.421412</td>\n",
       "      <td>-1.095619</td>\n",
       "      <td>-0.890287</td>\n",
       "      <td>-0.767338</td>\n",
       "      <td>2.542090</td>\n",
       "      <td>-2.043037</td>\n",
       "      <td>-1.527083</td>\n",
       "      <td>-1.487644</td>\n",
       "      <td>2.225007</td>\n",
       "      <td>3.475497</td>\n",
       "      <td>-1.037369</td>\n",
       "      <td>0.239576</td>\n",
       "      <td>-0.155178</td>\n",
       "      <td>-0.302208</td>\n",
       "      <td>-1.009909</td>\n",
       "      <td>0.0</td>\n",
       "    </tr>\n",
       "  </tbody>\n",
       "</table>\n",
       "<p>130 rows × 17 columns</p>\n",
       "</div>"
      ],
      "text/plain": [
       "      BALANCE  BALANCE_FREQUENCY  PURCHASES  ONEOFF_PURCHASES  \\\n",
       "0   -0.860898          -2.168635  -0.997805         -0.777742   \n",
       "1   -0.464663          -0.010262  -0.636295         -0.695854   \n",
       "2   -0.614618           0.421412   0.169901          0.565830   \n",
       "3    3.564079           0.421412   1.139417          0.213746   \n",
       "4    2.216358           0.421412  -0.101250         -0.427621   \n",
       "..        ...                ...        ...               ...   \n",
       "125 -0.078224           0.421412  -0.917845         -0.815138   \n",
       "126 -1.074373           0.421412   0.079988          0.392037   \n",
       "127 -1.205887          -3.463656  -1.095619         -0.890287   \n",
       "128 -0.708864           0.421412   0.125417          0.421141   \n",
       "129  0.561990           0.421412  -1.095619         -0.890287   \n",
       "\n",
       "     INSTALLMENTS_PURCHASES  CASH_ADVANCE  PURCHASES_FREQUENCY  \\\n",
       "0                 -0.767338      0.123404            -1.816752   \n",
       "1                 -0.075192      2.675276            -0.232742   \n",
       "2                 -0.767338     -0.622446             0.446118   \n",
       "3                  2.273372     -0.622446             0.672404   \n",
       "4                  0.644565     -0.327130             0.672404   \n",
       "..                      ...           ...                  ...   \n",
       "125               -0.499241      2.551108             0.672404   \n",
       "126               -0.621606     -0.516666             0.672404   \n",
       "127               -0.767338     -0.107534            -2.043037   \n",
       "128               -0.573610     -0.622446             0.672404   \n",
       "129               -0.767338      2.542090            -2.043037   \n",
       "\n",
       "     ONEOFF_PURCHASES_FREQUENCY  PURCHASES_INSTALLMENTS_FREQUENCY  \\\n",
       "0                     -1.314825                         -1.487644   \n",
       "1                     -0.253528                         -0.051194   \n",
       "2                      0.807769                         -1.487644   \n",
       "3                      0.383250                          0.974843   \n",
       "4                      0.383250                          0.974843   \n",
       "..                          ...                               ...   \n",
       "125                   -0.678047                          0.974843   \n",
       "126                    1.020027                         -0.256400   \n",
       "127                   -1.527083                         -1.487644   \n",
       "128                    1.020027                         -0.256400   \n",
       "129                   -1.527083                         -1.487644   \n",
       "\n",
       "     CASH_ADVANCE_FREQUENCY  CASH_ADVANCE_TRX  PURCHASES_TRX  PAYMENTS  \\\n",
       "0                  0.348128         -0.185980      -0.965163  0.225687   \n",
       "1                  1.978048          1.034513      -0.640233  1.168525   \n",
       "2                 -0.738484         -0.534692       1.574106 -0.749583   \n",
       "3                 -0.738484         -0.534692       1.562071  0.566185   \n",
       "4                  1.706395          0.976394       1.562071 -0.739348   \n",
       "..                      ...               ...            ...       ...   \n",
       "125                1.163088          0.046495      -0.604129  0.818637   \n",
       "126                0.076475         -0.185980       0.129972 -0.689536   \n",
       "127               -0.195177         -0.418455      -1.037369  0.460010   \n",
       "128               -0.738484         -0.534692       0.563212 -0.762558   \n",
       "129                2.225007          3.475497      -1.037369  0.239576   \n",
       "\n",
       "     MINIMUM_PAYMENTS  PRC_FULL_PAYMENT    TENURE  cluster  \n",
       "0           -0.476564         -0.003072  0.194570      0.0  \n",
       "1           -0.373416          0.323258  0.194570      0.0  \n",
       "2           -0.135199         -0.900480  0.194570      0.0  \n",
       "3            4.293607         -0.900480  0.194570      0.0  \n",
       "4            0.941730         -0.900480  0.194570      0.0  \n",
       "..                ...               ...       ...      ...  \n",
       "125         -0.304176         -0.227423  0.194570      0.0  \n",
       "126         -0.618204          0.894338  0.194570      0.0  \n",
       "127         -0.622246         -0.900480  0.194570      0.0  \n",
       "128         -0.520078         -0.003072  0.194570      0.0  \n",
       "129         -0.155178         -0.302208 -1.009909      0.0  \n",
       "\n",
       "[130 rows x 17 columns]"
      ]
     },
     "execution_count": 253,
     "metadata": {},
     "output_type": "execute_result"
    }
   ],
   "source": [
    "scaler = StandardScaler()\n",
    "scaler.fit(credit_features)\n",
    "feature_normalized = scaler.transform(credit_features)\n",
    "df_features = pd.DataFrame(feature_normalized, columns = credit_features.columns)\n",
    "df_features"
   ]
  },
  {
   "cell_type": "code",
   "execution_count": 254,
   "metadata": {},
   "outputs": [
    {
     "data": {
      "text/plain": [
       "((104, 17), (26, 17), (104, 1), (26, 1))"
      ]
     },
     "execution_count": 254,
     "metadata": {},
     "output_type": "execute_result"
    }
   ],
   "source": [
    "X = credit_features\n",
    "y = credit_target\n",
    "X_train, X_test, y_train, y_test = train_test_split(X, y, test_size = 0.2, random_state = 42)\n",
    "X_train.shape, X_test.shape, y_train.shape, y_test.shape"
   ]
  },
  {
   "cell_type": "code",
   "execution_count": 255,
   "metadata": {},
   "outputs": [
    {
     "name": "stdout",
     "output_type": "stream",
     "text": [
      "LinearRegression\n"
     ]
    },
    {
     "data": {
      "text/plain": [
       "[('CREDIT_LIMIT', array([6976.21739043]))]"
      ]
     },
     "execution_count": 255,
     "metadata": {},
     "output_type": "execute_result"
    }
   ],
   "source": [
    "model = LinearRegression()\n",
    "model.fit(X_train, y_train)\n",
    "y_pred = model.predict(X_test)\n",
    "print('LinearRegression')\n",
    "\n",
    "list(zip(y_test[:5], y_pred[:5]))"
   ]
  },
  {
   "cell_type": "code",
   "execution_count": 256,
   "metadata": {},
   "outputs": [
    {
     "name": "stdout",
     "output_type": "stream",
     "text": [
      "Coefficients: \n",
      " [[ 5.31750562e-01  2.36511036e+03 -1.27667217e+02  1.27705497e+02\n",
      "   1.28064239e+02 -1.27951496e-01 -1.34833069e+03  1.02354083e+03\n",
      "   1.23914906e+03 -2.53773620e+03  4.69674553e+01 -1.97722290e+01\n",
      "   1.87430754e-01 -9.84354880e-02  2.92876793e+02 -4.84374346e+02\n",
      "   0.00000000e+00]]\n",
      "Mean squared error: 17676813.14\n",
      "Mean absolut error: 3529.53\n",
      "Coefficient of determination: 0.16\n",
      "Fórmula: y = [10832.75528474] [ 5.31750562e-01  2.36511036e+03 -1.27667217e+02  1.27705497e+02\n",
      "  1.28064239e+02 -1.27951496e-01 -1.34833069e+03  1.02354083e+03\n",
      "  1.23914906e+03 -2.53773620e+03  4.69674553e+01 -1.97722290e+01\n",
      "  1.87430754e-01 -9.84354880e-02  2.92876793e+02 -4.84374346e+02\n",
      "  0.00000000e+00] x\n"
     ]
    }
   ],
   "source": [
    "print('Coefficients: \\n', model.coef_)\n",
    "# The mean squared error\n",
    "print('Mean squared error: %.2f'\n",
    "      % mean_squared_error(y_test, y_pred))\n",
    "# The mean absolut error\n",
    "print('Mean absolut error: %.2f'\n",
    "      % mean_absolute_error(y_test, y_pred))\n",
    "# The coefficient of determination: 1 is perfect prediction\n",
    "print('Coefficient of determination: %.2f'\n",
    "      % r2_score(y_test, y_pred))\n",
    "\n",
    "print(\"Fórmula: y = {} {} x\".format(model.intercept_,model.coef_[0]))"
   ]
  }
 ],
 "metadata": {
  "kernelspec": {
   "display_name": "Python 3",
   "language": "python",
   "name": "python3"
  },
  "language_info": {
   "codemirror_mode": {
    "name": "ipython",
    "version": 3
   },
   "file_extension": ".py",
   "mimetype": "text/x-python",
   "name": "python",
   "nbconvert_exporter": "python",
   "pygments_lexer": "ipython3",
   "version": "3.9.1"
  }
 },
 "nbformat": 4,
 "nbformat_minor": 4
}
