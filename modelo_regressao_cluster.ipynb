{
 "cells": [
  {
   "cell_type": "markdown",
   "metadata": {},
   "source": [
    "# Assigment 19 - Modelo de Regressão/Classificação"
   ]
  },
  {
   "cell_type": "markdown",
   "metadata": {},
   "source": [
    "### Contexto:\n",
    "\n",
    "Você é um cientista de dados e precisa desenvolver um projeto\n",
    "para o banco digital em expansão. Este banco irá anunciar a\n",
    "função crédito para os novos clientes que entrarem,\n",
    "baseando-se nos dados de movimentações deles de outros\n",
    "bancos e dos nossos clientes. Tem um conjunto de dados com 18\n",
    "colunas, descritas abaixo. São aproximadamente dados de 9000\n",
    "clientes e seus comportamentos financeiros como dinheiro em\n",
    "conta, frequência de movimentações, pagamentos com cartões,\n",
    "compras parceladas e limite de crédito"
   ]
  },
  {
   "cell_type": "markdown",
   "metadata": {},
   "source": [
    "### Objetivo:\n",
    "\n",
    "Os dados que você recebeu são dados brutos de quase 9000\n",
    "clientes de outros bancos que também podem se tornar novos\n",
    "clientes. Uma forma de cativar e adquirir novos clientes é\n",
    "oferecendo um crédito justo, baseado nestes dados que você\n",
    "coletou.\n",
    "Você deve então realizar duas modelagens, uma para criar\n",
    "rótulos (labels) para os clientes agrupando eles por\n",
    "comportamentos e em seguida, utilizar dessa nova feature para\n",
    "criar um modelo de regressão que irá propor um crédito para o\n",
    "cliente baseado-se nestes dados. Abaixo, estão expostas\n",
    "algumas etapas SUGERIDAS para você realizar no projeto."
   ]
  },
  {
   "cell_type": "markdown",
   "metadata": {},
   "source": [
    "### Glossário de dados\n",
    "\n",
    "- CUSTID : Identification of Credit Card holder (Categorical)\n",
    "- BALANCE : Balance amount left in their account to make purchases (\n",
    "- BALANCEFREQUENCY : How frequently the Balance is updated, score between 0 and 1 (1 = frequently updated, 0 = not frequently updated)\n",
    "- PURCHASES : Amount of purchases made from account\n",
    "- ONEOFFPURCHASES : Maximum purchase amount done in one-go\n",
    "- INSTALLMENTSPURCHASES : Amount of purchase done in installment\n",
    "- CASHADVANCE : Cash in advance given by the user\n",
    "- PURCHASESFREQUENCY : How frequently the Purchases are being made, score between 0 and 1 (1 = frequently purchased, 0 = not frequently purchased)\n",
    "- ONEOFFPURCHASESFREQUENCY : How frequently Purchases are happening in one-go (1 = frequently purchased, 0 = not frequently purchased)\n",
    "- PURCHASESINSTALLMENTSFREQUENCY : How frequently purchases in installments are being done (1 = frequently done, 0 = not frequently done)\n",
    "- CASHADVANCEFREQUENCY : How frequently the cash in advance being paid\n",
    "- CASHADVANCETRX : Number of Transactions made with \"Cash in Advanced\"\n",
    "- PURCHASESTRX : Numbe of purchase transactions made\n",
    "- CREDITLIMIT : Limit of Credit Card for user\n",
    "- PAYMENTS : Amount of Payment done by user\n",
    "- MINIMUM_PAYMENTS : Minimum amount of payments made by user\n",
    "- PRCFULLPAYMENT : Percent of full payment paid by user\n",
    "- TENURE : Tenure of credit card service for user"
   ]
  }
 ],
 "metadata": {
  "kernelspec": {
   "display_name": "Python 3",
   "language": "python",
   "name": "python3"
  },
  "language_info": {
   "codemirror_mode": {
    "name": "ipython",
    "version": 3
   },
   "file_extension": ".py",
   "mimetype": "text/x-python",
   "name": "python",
   "nbconvert_exporter": "python",
   "pygments_lexer": "ipython3",
   "version": "3.9.1"
  }
 },
 "nbformat": 4,
 "nbformat_minor": 4
}
